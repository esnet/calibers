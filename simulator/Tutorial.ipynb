{
 "cells": [
  {
   "cell_type": "code",
   "execution_count": 1,
   "metadata": {
    "collapsed": false
   },
   "outputs": [],
   "source": [
    "%load_ext autoreload"
   ]
  },
  {
   "cell_type": "markdown",
   "metadata": {},
   "source": [
    "This network simulator aims provide a platform for simulating distributed workflows over the WAN. While the simulator must simulate some features such as latency and capacity, it is not intended to model network protocols. In particular, layer 0-3 is highly abstracted and TCP model is simplistic. The focus is on the features and behavior of workflows competing for network resources.\n",
    "\n",
    "Abstractions are Workflows, Packet, Router, Port, Link, Topology, Endpoint\n"
   ]
  },
  {
   "cell_type": "markdown",
   "metadata": {},
   "source": [
    "Workflows\n",
    "---------\n",
    "\n",
    "Workflows are sender and receivers of packets over the network. They are responsible for simulating:\n",
    "\n",
    "  . sending and receiving of data.\n",
    "  \n",
    "  . routing. This allow to support simulation of intelligent, dynamic, routing. \n",
    "  \n",
    "  . end to end flow control.\n",
    "  \n",
    "  . pacing.\n",
    "  \n",
    "  . maintaint statistics, including errors and losses.\n",
    "  \n",
    "  \n",
    "Workflow implementations uses routers and ports to send and receive data. They also implement functions that routers and ports will come back when:\n",
    "\n",
    "  . a packet is received on a port. This allows the workflow to change the path of the packet if it desires so (not implemented yet). When the last port of the path receives a packet, it delivers it to the workflow.\n",
    "  \n",
    "  . a packet is dropped anywhere in the path. This allows the workflow to simulate a particular flow control mechanism.\n",
    "  \n",
    "Currently only one workflow is implementing, simulating a UDP based file transfer.\n",
    "\n",
    "IMPORTANT: size and time units are not correctly calculated at the moment. This will be fixed soon."
   ]
  },
  {
   "cell_type": "markdown",
   "metadata": {},
   "source": [
    "Packet\n",
    "------\n",
    "\n",
    "Packets represent a quantity of data expressed as an integer. A packet maintains its own path as a ordered list of router/ports (note, this may/should be changed as a list of links)."
   ]
  },
  {
   "cell_type": "markdown",
   "metadata": {},
   "source": [
    "Link\n",
    "----\n",
    "\n",
    "Links are undirectional, maintain connectivity between two ports, and simulate latency.\n",
    "\n",
    "Note that timing of the simulation is currently wall clock. That means that latency is expressed in seconds which does not make sense. The overall timing of the simulator needs to allow finer grain timing."
   ]
  },
  {
   "cell_type": "markdown",
   "metadata": {},
   "source": [
    "Port\n",
    "----\n",
    "\n",
    "Ports are responsible for simulating:\n",
    "  . ingress / egress of packets\n",
    "  . capacity limit (i.e. drop packets)\n",
    "  . buffer (not yet implemented)\n",
    "  . layer 2 flow control (not yet implemented)"
   ]
  },
  {
   "cell_type": "markdown",
   "metadata": {},
   "source": [
    "Router\n",
    "------\n",
    "\n",
    "Routers are made up ports that are interconnected with a full mesh of links with no latency. "
   ]
  },
  {
   "cell_type": "markdown",
   "metadata": {},
   "source": [
    "Endpoint\n",
    "--------\n",
    "\n",
    "Endpoints are special types of routers that are used as sources and destinations of workflows. In addition to having a port with a given capacity, the actual rate can statically or dynamically adjusted (rate limiting)"
   ]
  },
  {
   "cell_type": "markdown",
   "metadata": {},
   "source": [
    "\n",
    "Topology\n",
    "--------\n",
    "\n",
    "The set of routers and links constitues the simulated topology which is represented as a graph.\n",
    "\n",
    "Let's start with a simple topology made of two connected routers. "
   ]
  },
  {
   "cell_type": "markdown",
   "metadata": {},
   "source": [
    "Trying this out\n",
    "--------------\n",
    "Let's create a simple topology made of two routers.\n",
    "\n",
    "The link has a capacity of 10 and no latency.\n",
    "\n",
    "Note that the time scaling is defined when creating the topolog"
   ]
  },
  {
   "cell_type": "code",
   "execution_count": 59,
   "metadata": {
    "collapsed": false,
    "scrolled": true
   },
   "outputs": [
    {
     "data": {
      "image/png": "[encoded data removed]",
      "text/plain": [
       "<matplotlib.figure.Figure at 0x11ba65350>"
      ]
     },
     "metadata": {},
     "output_type": "display_data"
    }
   ],
   "source": [
    "%aimport sim\n",
    "%autoreload 2\n",
    "from sim import Topology\n",
    "\n",
    "\n",
    "topo = Topology(\"test topology\", ticks_per_sec=10)\n",
    "\n",
    "topo.add_routers(['router1','router2'])\n",
    "topo.add_link(router_a='router1',router_b='router2',capacity=10000,latency=0) \n",
    "\n",
    "topo.draw()"
   ]
  },
  {
   "cell_type": "markdown",
   "metadata": {
    "collapsed": true
   },
   "source": [
    "This shows two ports (one in each router) inter connected. This network is not very useful until we add two endpoints, 'server1' and 'server2' respectively connected to router1 and router2:"
   ]
  },
  {
   "cell_type": "code",
   "execution_count": 60,
   "metadata": {
    "collapsed": false
   },
   "outputs": [
    {
     "data": {
      "image/png": "[encoded data removed]",
      "text/plain": [
       "<matplotlib.figure.Figure at 0x11bfe70d0>"
      ]
     },
     "metadata": {},
     "output_type": "display_data"
    }
   ],
   "source": [
    "from sim import Endpoint\n",
    "\n",
    "server1 = Endpoint(name='server1',topology=topo,capacity=10000,rate=8000)\n",
    "server1.connect('router1')\n",
    "server2 = Endpoint(name='server2',topology=topo,capacity=10000,rate=8000)\n",
    "server2.connect('router2')\n",
    "\n",
    "topo.draw()"
   ]
  },
  {
   "cell_type": "markdown",
   "metadata": {},
   "source": [
    "Time now to create a workflow. DataTransfer tries to send data as fast as possible does not implement flow control. It is similar as running a UDP iperf/nuttcp flow. The tunables are:\n",
    "  . data_size: the overall size of data to transfer\n",
    "  . block_size: size of packets that will be sent at once. Lower numbers will tend to provide a finer grain simulation but at a higher performance cost.\n",
    "  . max_rate: number of data per second. This simulates rate limiting."
   ]
  },
  {
   "cell_type": "code",
   "execution_count": 62,
   "metadata": {
    "collapsed": false
   },
   "outputs": [],
   "source": [
    "from sim import DataTransfer\n",
    "\n",
    "flow1 = DataTransfer(name=\"flow1\",\n",
    "                     src=server1,\n",
    "                     dst=server2,\n",
    "                     data_size=20000,\n",
    "                     block_size=10000,\n",
    "                     max_rate=8000,\n",
    "                     topology=topo)\n",
    "flow1.info = True\n",
    "\n",
    "topo.schedule_workflow(workflow=flow1)"
   ]
  },
  {
   "cell_type": "code",
   "execution_count": 52,
   "metadata": {
    "collapsed": false
   },
   "outputs": [
    {
     "name": "stdout",
     "output_type": "stream",
     "text": [
      "Simulation starts at  0 and will run until  100.0\n",
      "0 start file transfer flow1\n",
      "24 flow1 success 20000 packets 25 drop 0   0 %\n",
      "Simulation stops at 100.0\n"
     ]
    }
   ],
   "source": [
    "topo.start_simulation(until_sec=10)"
   ]
  },
  {
   "cell_type": "code",
   "execution_count": 23,
   "metadata": {
    "collapsed": false,
    "scrolled": false
   },
   "outputs": [
    {
     "data": {
      "text/plain": [
       "[[0, 0],\n",
       " [0, 800],\n",
       " [100, 800],\n",
       " [200, 800],\n",
       " [300, 800],\n",
       " [400, 800],\n",
       " [500, 800],\n",
       " [600, 800],\n",
       " [700, 800],\n",
       " [800, 800],\n",
       " [900, 800],\n",
       " [1000, 800],\n",
       " [1100, 800],\n",
       " [1200, 800],\n",
       " [1300, 800],\n",
       " [1400, 800],\n",
       " [1500, 800],\n",
       " [1600, 800],\n",
       " [1700, 800],\n",
       " [1800, 800],\n",
       " [1900, 800],\n",
       " [2000, 800],\n",
       " [2100, 800],\n",
       " [2200, 800],\n",
       " [2300, 800],\n",
       " [2400, 800]]"
      ]
     },
     "execution_count": 23,
     "metadata": {},
     "output_type": "execute_result"
    }
   ],
   "source": [
    "flow1.receive_data"
   ]
  },
  {
   "cell_type": "code",
   "execution_count": 56,
   "metadata": {
    "collapsed": false
   },
   "outputs": [
    {
     "data": {
      "image/png": "[encoded data removed]",
      "text/plain": [
       "<matplotlib.figure.Figure at 0x11bacbd90>"
      ]
     },
     "metadata": {},
     "output_type": "display_data"
    }
   ],
   "source": [
    "flow1.plot_receive()\n",
    "#flow1.plot_drop()\n",
    "topo.show_plots()"
   ]
  },
  {
   "cell_type": "code",
   "execution_count": 61,
   "metadata": {
    "collapsed": false
   },
   "outputs": [
    {
     "data": {
      "image/png": "[encoded data removed]",
      "text/plain": [
       "<matplotlib.figure.Figure at 0x11c09ee50>"
      ]
     },
     "metadata": {},
     "output_type": "display_data"
    }
   ],
   "source": [
    "server3 = Endpoint(name='server3',topology=topo,capacity=10000,rate=8000)\n",
    "server3.connect('router2')\n",
    "\n",
    "topo.draw()"
   ]
  },
  {
   "cell_type": "code",
   "execution_count": 63,
   "metadata": {
    "collapsed": false
   },
   "outputs": [],
   "source": [
    "flow2 = DataTransfer(name=\"flow2\",\n",
    "                     src=server3,\n",
    "                     dst=server2,\n",
    "                     data_size=20000,\n",
    "                     block_size=10000,\n",
    "                     max_rate=8000,\n",
    "                     topology=topo)\n",
    "flow2.info = True\n",
    "\n",
    "topo.schedule_workflow(workflow=flow2)"
   ]
  },
  {
   "cell_type": "code",
   "execution_count": 64,
   "metadata": {
    "collapsed": false
   },
   "outputs": [
    {
     "name": "stdout",
     "output_type": "stream",
     "text": [
      "Simulation starts at  0 and will run until  500.0\n",
      "0 start file transfer flow1\n",
      "0 start file transfer flow2\n",
      "24 flow2 success 20000 packets 25 drop 0   0 %\n",
      "24 flow1 success 20000 packets 25 drop 0   0 %\n",
      "Simulation stops at 500.0\n"
     ]
    }
   ],
   "source": [
    "topo.start_simulation(until_sec=50)"
   ]
  },
  {
   "cell_type": "code",
   "execution_count": 65,
   "metadata": {
    "collapsed": false
   },
   "outputs": [],
   "source": [
    "flow1.plot_receive()\n",
    "flow2.plot_receive()"
   ]
  },
  {
   "cell_type": "code",
   "execution_count": 66,
   "metadata": {
    "collapsed": false
   },
   "outputs": [
    {
     "data": {
      "image/png": "[encoded data removed]",
      "text/plain": [
       "<matplotlib.figure.Figure at 0x11c034650>"
      ]
     },
     "metadata": {},
     "output_type": "display_data"
    }
   ],
   "source": [
    "topo.show_plots()"
   ]
  },
  {
   "cell_type": "code",
   "execution_count": null,
   "metadata": {
    "collapsed": true
   },
   "outputs": [],
   "source": []
  }
 ],
 "metadata": {
  "kernelspec": {
   "display_name": "Python 2",
   "language": "python",
   "name": "python2"
  },
  "language_info": {
   "codemirror_mode": {
    "name": "ipython",
    "version": 2
   },
   "file_extension": ".py",
   "mimetype": "text/x-python",
   "name": "python",
   "nbconvert_exporter": "python",
   "pygments_lexer": "ipython2",
   "version": "2.7.13"
  }
 },
 "nbformat": 4,
 "nbformat_minor": 2
}
