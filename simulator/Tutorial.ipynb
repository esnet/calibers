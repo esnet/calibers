{
 "cells": [
  {
   "cell_type": "code",
   "execution_count": 1,
   "metadata": {
    "collapsed": false
   },
   "outputs": [],
   "source": [
    "%load_ext autoreload"
   ]
  },
  {
   "cell_type": "markdown",
   "metadata": {},
   "source": [
    "This network simulator aims provide a platform for simulating distributed workflows over the WAN. While the simulator must simulate some features such as latency and capacity, it is not intended to model network protocols. In particular, layer 0-3 is highly abstracted and TCP model is simplistic. The focus is on the features and behavior of workflows competing for network resources.\n",
    "\n",
    "Abstractions are Workflows, Packet, Router, Port, Link, Topology, Endpoint\n"
   ]
  },
  {
   "cell_type": "markdown",
   "metadata": {},
   "source": [
    "Workflows\n",
    "---------\n",
    "\n",
    "Workflows are sender and receivers of packets over the network. They are responsible for simulating:\n",
    "\n",
    "  . sending and receiving of data.\n",
    "  \n",
    "  . routing. This allow to support simulation of intelligent, dynamic, routing. \n",
    "  \n",
    "  . congestion.\n",
    "  \n",
    "  . pacing.\n",
    "  \n",
    "  . maintaint statistics, including errors and losses.\n",
    "  \n",
    "  \n",
    "Workflow implementations uses routers and ports to send and receive data. They also implement functions that routers and ports will come back when:\n",
    "\n",
    "  . a packet is received on a port. This allows the workflow to change the path of the packet if it desires so (not implemented yet). When the last port of the path receives a packet, it delivers it to the workflow.\n",
    "  \n",
    "  . a packet is dropped anywhere in the path. This allows the workflow to simulate a particular flow control mechanism.\n",
    "\n",
    "IMPORTANT: size and time units are not correctly calculated at the moment. This will be fixed soon."
   ]
  },
  {
   "cell_type": "markdown",
   "metadata": {},
   "source": [
    "Packet\n",
    "------\n",
    "\n",
    "Packets represent a quantity of data expressed as an integer. A packet maintains its own path as a ordered list of router/ports (note, this may/should be changed as a list of links)."
   ]
  },
  {
   "cell_type": "markdown",
   "metadata": {},
   "source": [
    "Link\n",
    "----\n",
    "\n",
    "Links are undirectional, maintain connectivity between two ports, and simulate latency.\n",
    "\n",
    "Note that timing of the simulation is currently wall clock. That means that latency is expressed in seconds which does not make sense. The overall timing of the simulator needs to allow finer grain timing."
   ]
  },
  {
   "cell_type": "markdown",
   "metadata": {},
   "source": [
    "Port\n",
    "----\n",
    "\n",
    "Ports are responsible for simulating:\n",
    "  . ingress / egress of packets\n",
    "  . capacity limit (i.e. drop packets)\n",
    "  . buffer (not yet implemented)\n",
    "  . layer 2 flow control (not yet implemented)"
   ]
  },
  {
   "cell_type": "markdown",
   "metadata": {},
   "source": [
    "Router\n",
    "------\n",
    "\n",
    "Routers are made up ports that are interconnected with a full mesh of links with no latency. "
   ]
  },
  {
   "cell_type": "markdown",
   "metadata": {},
   "source": [
    "Endpoint\n",
    "--------\n",
    "\n",
    "Endpoints are special types of routers that are used as sources and destinations of workflows. In addition to having a port with a given capacity, the actual rate can statically or dynamically adjusted (rate limiting)"
   ]
  },
  {
   "cell_type": "markdown",
   "metadata": {},
   "source": [
    "\n",
    "Topology\n",
    "--------\n",
    "\n",
    "The set of routers and links constitues the simulated topology which is represented as a graph.\n",
    "\n",
    "Let's start with a simple topology made of two connected routers. "
   ]
  },
  {
   "cell_type": "markdown",
   "metadata": {},
   "source": [
    "Trying this out\n",
    "--------------\n",
    "Let's create a simple topology made of two routers.\n",
    "\n",
    "The link has a capacity of 10 and no latency.\n",
    "\n",
    "Note that the time scaling is defined when creating the topology"
   ]
  },
  {
   "cell_type": "code",
   "execution_count": 271,
   "metadata": {
    "collapsed": false,
    "scrolled": true
   },
   "outputs": [
    {
     "data": {
      "image/png": "[encoded data removed]",
      "text/plain": [
       "<matplotlib.figure.Figure at 0x10f541990>"
      ]
     },
     "metadata": {},
     "output_type": "display_data"
    }
   ],
   "source": [
    "%aimport sim\n",
    "%autoreload 2\n",
    "from sim import Topology\n",
    "\n",
    "\n",
    "topo = Topology(\"test topology\", ticks_per_sec=100)\n",
    "\n",
    "topo.add_routers(['router1','router2'])\n",
    "topo.add_link(router_a='router1',router_b='router2',capacity=10000,latency=0) \n",
    "\n",
    "topo.draw()"
   ]
  },
  {
   "cell_type": "markdown",
   "metadata": {
    "collapsed": true
   },
   "source": [
    "This shows two ports (one in each router) inter connected. This network is not very useful until we add two endpoints, 'server1' and 'server2' respectively connected to router1 and router2:"
   ]
  },
  {
   "cell_type": "code",
   "execution_count": 272,
   "metadata": {
    "collapsed": false
   },
   "outputs": [
    {
     "data": {
      "image/png": "[encoded data removed]",
      "text/plain": [
       "<matplotlib.figure.Figure at 0x10f0fdad0>"
      ]
     },
     "metadata": {},
     "output_type": "display_data"
    }
   ],
   "source": [
    "from sim import Endpoint\n",
    "\n",
    "server1 = Endpoint(name='server1',topology=topo,capacity=10000,rate=8000)\n",
    "server1.connect('router1')\n",
    "server2 = Endpoint(name='server2',topology=topo,capacity=10000,rate=8000)\n",
    "server2.connect('router2')\n",
    "\n",
    "topo.draw()"
   ]
  },
  {
   "cell_type": "markdown",
   "metadata": {},
   "source": [
    "Time now to create a workflow. A workflow implementation must extend sim.Workflow. A default implementation is provided by sim.DataTransfer simulating a file transfer. It simulates pacing and dynamic windows. "
   ]
  },
  {
   "cell_type": "code",
   "execution_count": 273,
   "metadata": {
    "collapsed": false
   },
   "outputs": [],
   "source": [
    "from sim import DataTransfer\n",
    "\n",
    "flow1 = DataTransfer(name=\"flow1\",\n",
    "                     src=server1,\n",
    "                     dst=server2,\n",
    "                     data_size=100000,\n",
    "                     max_rate=8000,\n",
    "                     topology=topo)\n",
    "\n",
    "flow1.info = True\n",
    "flow1.debug = False\n",
    "                     \n",
    "topo.schedule_workflow(workflow=flow1)"
   ]
  },
  {
   "cell_type": "code",
   "execution_count": 357,
   "metadata": {
    "collapsed": false
   },
   "outputs": [
    {
     "name": "stdout",
     "output_type": "stream",
     "text": [
      "Simulation starts at  378560\n",
      "Simulation stops at 378560\n"
     ]
    }
   ],
   "source": [
    "#topo.start_simulation(until_sec=50)\n",
    "topo.start_simulation()"
   ]
  },
  {
   "cell_type": "code",
   "execution_count": 275,
   "metadata": {
    "collapsed": false
   },
   "outputs": [
    {
     "data": {
      "image/png": "[encoded data removed]",
      "text/plain": [
       "<matplotlib.figure.Figure at 0x10f693110>"
      ]
     },
     "metadata": {},
     "output_type": "display_data"
    }
   ],
   "source": [
    "flow1.plot_receive()\n",
    "topo.show_plots()"
   ]
  },
  {
   "cell_type": "code",
   "execution_count": 356,
   "metadata": {
    "collapsed": false,
    "scrolled": false
   },
   "outputs": [
    {
     "data": {
      "image/png": "[encoded data removed]",
      "text/plain": [
       "<matplotlib.figure.Figure at 0x10ebae050>"
      ]
     },
     "metadata": {},
     "output_type": "display_data"
    },
    {
     "name": "stdout",
     "output_type": "stream",
     "text": [
      "Simulation starts at  0\n",
      "0 start file transfer flow1\n",
      "0 start file transfer flow2\n",
      "time: 204170 flow2 rtt: 60 average 4901 drop 21\n",
      "time: 378300 flow1 rtt: 280 average 2645 drop 22\n",
      "Simulation stops at 378560\n"
     ]
    }
   ],
   "source": [
    "%aimport sim\n",
    "%autoreload 2\n",
    "from sim import Topology\n",
    "\n",
    "topo = Topology(\"test topology\", ticks_per_sec=100)\n",
    "\n",
    "from sim import Endpoint\n",
    "\n",
    "topo.add_routers(['router1','router2'])\n",
    "topo.add_link(router_a='router1',router_b='router2',capacity=10000,latency=100)\n",
    "\n",
    "server1 = Endpoint(name='server1',topology=topo,capacity=10000,rate=8000)\n",
    "server1.connect('router1', latency=20)\n",
    "server2 = Endpoint(name='server2',topology=topo,capacity=10000,rate=8000)\n",
    "server2.connect('router2', latency=20)\n",
    "server3 = Endpoint(name='server3',topology=topo,capacity=10000,rate=8000)\n",
    "server3.connect('router2', latency=10)\n",
    "\n",
    "from sim import DataTransfer\n",
    "\n",
    "flow1 = DataTransfer(name=\"flow1\",\n",
    "                     src=server1,\n",
    "                     dst=server2,\n",
    "                     data_size=1000000,\n",
    "                     max_rate=8000,\n",
    "                     topology=topo)\n",
    "\n",
    "flow1.info = True\n",
    "flow1.debug = False\n",
    "                     \n",
    "topo.schedule_workflow(workflow=flow1)\n",
    "\n",
    "flow2 = DataTransfer(name=\"flow2\",\n",
    "                     src=server2,\n",
    "                     dst=server3,\n",
    "                     data_size=1000000,\n",
    "                     max_rate=8000,\n",
    "                     topology=topo)\n",
    "\n",
    "flow2.info = True\n",
    "flow2.debug = False\n",
    "                     \n",
    "topo.schedule_workflow(workflow=flow2)\n",
    "\n",
    "topo.draw()\n",
    "\n",
    "#topo.start_simulation(until_sec=600)\n",
    "topo.start_simulation()"
   ]
  },
  {
   "cell_type": "code",
   "execution_count": 355,
   "metadata": {
    "collapsed": false
   },
   "outputs": [
    {
     "data": {
      "image/png": "[encoded data removed]",
      "text/plain": [
       "<matplotlib.figure.Figure at 0x10f360310>"
      ]
     },
     "metadata": {},
     "output_type": "display_data"
    }
   ],
   "source": [
    "flow1.plot_receive()\n",
    "flow2.plot_receive()\n",
    "topo.show_plots()"
   ]
  },
  {
   "cell_type": "code",
   "execution_count": null,
   "metadata": {
    "collapsed": false
   },
   "outputs": [],
   "source": []
  },
  {
   "cell_type": "code",
   "execution_count": null,
   "metadata": {
    "collapsed": false
   },
   "outputs": [],
   "source": []
  },
  {
   "cell_type": "code",
   "execution_count": 74,
   "metadata": {
    "collapsed": false
   },
   "outputs": [],
   "source": []
  },
  {
   "cell_type": "code",
   "execution_count": 32,
   "metadata": {
    "collapsed": false
   },
   "outputs": [],
   "source": []
  },
  {
   "cell_type": "code",
   "execution_count": null,
   "metadata": {
    "collapsed": false
   },
   "outputs": [],
   "source": []
  },
  {
   "cell_type": "code",
   "execution_count": null,
   "metadata": {
    "collapsed": false
   },
   "outputs": [],
   "source": []
  },
  {
   "cell_type": "code",
   "execution_count": null,
   "metadata": {
    "collapsed": false
   },
   "outputs": [],
   "source": []
  },
  {
   "cell_type": "code",
   "execution_count": null,
   "metadata": {
    "collapsed": false
   },
   "outputs": [],
   "source": []
  },
  {
   "cell_type": "code",
   "execution_count": null,
   "metadata": {
    "collapsed": false
   },
   "outputs": [],
   "source": []
  },
  {
   "cell_type": "code",
   "execution_count": null,
   "metadata": {
    "collapsed": false
   },
   "outputs": [],
   "source": []
  },
  {
   "cell_type": "code",
   "execution_count": 232,
   "metadata": {
    "collapsed": false
   },
   "outputs": [],
   "source": []
  },
  {
   "cell_type": "code",
   "execution_count": null,
   "metadata": {
    "collapsed": true
   },
   "outputs": [],
   "source": []
  }
 ],
 "metadata": {
  "kernelspec": {
   "display_name": "Python 2",
   "language": "python",
   "name": "python2"
  },
  "language_info": {
   "codemirror_mode": {
    "name": "ipython",
    "version": 2
   },
   "file_extension": ".py",
   "mimetype": "text/x-python",
   "name": "python",
   "nbconvert_exporter": "python",
   "pygments_lexer": "ipython2",
   "version": "2.7.13"
  }
 },
 "nbformat": 4,
 "nbformat_minor": 2
}
