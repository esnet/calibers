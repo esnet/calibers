{
 "cells": [
  {
   "cell_type": "markdown",
   "metadata": {},
   "source": [
    "There are three different network topologies:\n",
    "- Testing: AMST, AOFA, CERN, DENV, WASH, ATLA -> DENV (not SCinet)\n",
    "- Calibers: AMST, AOFA, CERN, DENV, WASH, ATLA -> SCINET\n",
    "- TCP: AMST, AOFA, CERN, DENV, WASH, ATLA -> SCINET\n",
    "\n",
    "Each topology is handle by its own L2VPN VFC on each of the CORSA, by convention:\n",
    "- Testing is br1\n",
    "- Calibers is br2\n",
    "- TCP is br2"
   ]
  },
  {
   "cell_type": "markdown",
   "metadata": {},
   "source": [
    "TESTING TOPOLOGY\n",
    "----------------\n",
    "\n",
    "- Receiving DTN at DENV: 192.168.120.117 VFC= br1 ofport 11 vlan1117\n",
    "- Calibers controller at ATLA: 192.168.120.119 VFC= br1 ofport 9 vlan 1119 \n",
    "\n",
    "AMST - DENV rtt= 166\n",
    "- OSCARS vlan 2280 es.net-6693\n",
    "- DTN 192.168.120.190 VFC= br1 ofport ?\n",
    "\n",
    "CERN - DENV rtt= 151\n",
    "- OSCARS vlan 2597 es.net-6678\n",
    "- DTN: 192.168.120.194 VFC= br1 ofport 10 vlan 1194\n",
    "\n",
    "AOFA - DENV rtt= 67\n",
    "- OSCARS vlan 289  es.net-6691\n",
    "- DTN: 192.168.120.191 VFC= br1 ofport 1 vlan 1191\n",
    "\n",
    "ATLA - DENV rtt= 49.4\n",
    "- OSCARS vlan 384  es.net-6690\n",
    "- DTN: 192.168.120.200 VFC= br1 ofport 8 vlan 1200\n",
    "\n",
    "WASH - DENV rtt= 62\n",
    "- OSCARS vlan 1591 es.net-6692\n",
    "- DTN: 192.168.120.192 VFC= br1 ofport 10 vlan 1192\n",
    "\n",
    "DENV - DENV rtt= 0.2\n",
    "- DTN: 192.168.120.201 VFC= br1 ofport 10 vlan 1201"
   ]
  },
  {
   "cell_type": "markdown",
   "metadata": {},
   "source": [
    "CALIBERS TOPOLOGY\n",
    "-----------------\n",
    "\n",
    "- Receiving DTN at SCInet ?\n",
    "- Calibers controller at ATLA: 192.168.120.119 VFC= br2 ofport 9 vlan 119 \n",
    "\n",
    "AMST - SCinet\n",
    "- OSCARS vlan 2056 es.net-6615\n",
    "- DTN 192.168.120.190 VFC= br2 ofport ?\n",
    "\n",
    "CERN - SCinet\n",
    "- OSCARS vlan 2058 es.net-6617\n",
    "- DTN: 192.168.120.194 VFC= br2 ofport 10 vlan 194\n",
    "\n",
    "AOFA - SCinet\n",
    "- OSCARS vlan 2054  es.net-6624\n",
    "- DTN: 192.168.120.191 VFC= br2 ofport 1 vlan 191\n",
    "\n",
    "ATLA - SCinet\n",
    "- OSCARS vlan 2050  es.net-6625\n",
    "- DTN: 192.168.120.200 VFC= br2 ofport 8 vlan 200\n",
    "\n",
    "WASH - SCinet \n",
    "- OSCARS vlan 2052 es.net-6613\n",
    "- DTN: 192.168.120.192 VFC= br2 ofport 10 vlan 192\n",
    "\n",
    "DENV - SCinet \n",
    "- OSCARS vlan 2060 es.net-6619\n",
    "- DTN: 192.168.120.201 VFC= br2 ofport 10 vlan 201"
   ]
  },
  {
   "cell_type": "markdown",
   "metadata": {},
   "source": [
    "TCP ONLY TOPOLOGY\n",
    "----------------\n",
    "\n",
    "- Receiving DTN at SCInet ?\n",
    "- Calibers controller at ATLA: 192.168.120.193 VFC= br3 ofport 9 vlan 193 \n",
    "\n",
    "AMST - SCinet corsa switch has issues. not yet online\n",
    "- OSCARS vlan 2057 es.net-6616\n",
    "- DTN 192.168.120.111 VFC= br3 ofport ?\n",
    "\n",
    "CERN - SCinet\n",
    "- OSCARS vlan 2059 es.net-6618\n",
    "- DTN: 192.168.120.112 VFC= br3 ofport 10 vlan 112\n",
    "\n",
    "AOFA - SCinet\n",
    "- OSCARS vlan 2055  es.net-6612\n",
    "- DTN: 192.168.120.114 VFC= br3 ofport 1 vlan 114\n",
    "\n",
    "ATLA - SCinet\n",
    "- OSCARS vlan 2051  es.net-6626\n",
    "- DTN: 192.168.120.113 VFC= br3 ofport 8 vlan 113\n",
    "\n",
    "WASH - SCinet \n",
    "- OSCARS vlan 2053 es.net-6614\n",
    "- DTN: 192.168.120.192 VFC= br3 ofport 10 vlan 192\n",
    "\n",
    "DENV - SCinet \n",
    "- OSCARS vlan 2061 es.net-6620\n",
    "- DTN: 192.168.120.115 VFC= br3 ofport 10 vlan 115"
   ]
  },
  {
   "cell_type": "markdown",
   "metadata": {},
   "source": [
    "\n",
    "\n"
   ]
  },
  {
   "cell_type": "code",
   "execution_count": null,
   "metadata": {
    "collapsed": true
   },
   "outputs": [],
   "source": []
  },
  {
   "cell_type": "code",
   "execution_count": null,
   "metadata": {
    "collapsed": true
   },
   "outputs": [],
   "source": []
  },
  {
   "cell_type": "markdown",
   "metadata": {
    "collapsed": true
   },
   "source": [
    "\n",
    "\n",
    "atla -> nash -> hous -> elpa -> albq -> denv\n",
    "wash -> nash -> hous -> elpa -> albq -> denv\n",
    "aofa -> wash -> nash -> hous -> elpa -> albq -> denv\n",
    "amst -> cern-272 -> cern-513 -> lond -> aofa -> wash -> nash -> hous -> elpa -> albq -> denv \n",
    "cern-272 -> cern-513 -> lond -> aofa -> wash -> nash -> hous -> elpa -> albq -> denv \n",
    "star -> chic -> kans -> denv\n",
    "\n",
    "\n"
   ]
  },
  {
   "cell_type": "markdown",
   "metadata": {},
   "source": [
    "\n",
    "wget https://repo.continuum.io/archive/Anaconda2-5.0.1-Linux-x86_64.sh\n",
    "\n",
    "sh ./Anaconda2-5.0.1-Linux-x86_64.sh\n",
    "\n",
    "as root apt-get install python-pip\n",
    "\n",
    "pip install flask flask_restfull\n",
    "\n",
    "jupyter notebook --no-browser \n",
    "\n",
    "jupyter notebook --generate-config\n",
    "[http://jupyter-notebook.readthedocs.io/en/stable/public_server.html]\n",
    "jupyter notebook password\n",
    "\n",
    "vi ~/.jupyter/jupyter_notebook_config.py\n",
    "\n",
    "\n",
    "\n",
    "\n"
   ]
  }
 ],
 "metadata": {
  "kernelspec": {
   "display_name": "Python 2",
   "language": "python",
   "name": "python2"
  },
  "language_info": {
   "codemirror_mode": {
    "name": "ipython",
    "version": 2
   },
   "file_extension": ".py",
   "mimetype": "text/x-python",
   "name": "python",
   "nbconvert_exporter": "python",
   "pygments_lexer": "ipython2",
   "version": "2.7.13"
  }
 },
 "nbformat": 4,
 "nbformat_minor": 2
}
