{
 "cells": [
  {
   "cell_type": "markdown",
   "metadata": {},
   "source": [
    "ESnet Circuits\n",
    "-------------\n",
    "\n",
    "VLAN\n",
    "2050-1 atla\n",
    "2052-3 wash\n",
    "2054-5 aofa\n",
    "2056-7 amst\n",
    "2058-9 cern\n",
    "2060-1 denv\n",
    "2062-3 star\n",
    "\n",
    "OSCARS\n",
    "es.net-6625: atla (2050)\n",
    "es.net-6626: atla (2051)\n",
    "es.net-6613: wash (2052)\n",
    "es.net-6614: wash (2053)\n",
    "es.net-6624: aofa (2054)\n",
    "es.net-6612: aofa (2055)\n",
    "es.net-6615: amst (2056)\n",
    "es.net-6616: amst (2057)\n",
    "es.net-6617: cern (2058)\n",
    "es.net-6618: cern (2059)\n",
    "es.net-6619: denv (2060)\n",
    "es.net-6620: denv (2061)\n",
    "es.net-6621: star (2062)\n",
    "es.net-6622: star (2063)\n",
    "\n",
    "\n",
    "SCinet endpoint\n",
    "--------------\n",
    "denv:9/1/4"
   ]
  },
  {
   "cell_type": "code",
   "execution_count": null,
   "metadata": {
    "collapsed": true
   },
   "outputs": [],
   "source": [
    "Calibers slice topology\n",
    "------------------------\n",
    "\n",
    "2050 atla\n",
    "2052 wash\n",
    "2054 aofa\n",
    "2056 amst\n",
    "2058 cern\n",
    "2060 denv\n",
    "2062 star\n",
    "\n",
    "TCP slice topology\n",
    "------------------\n",
    "\n",
    "2051 atla\n",
    "2053 wash\n",
    "2055 aofa\n",
    "2057 amst\n",
    "2059 cern\n",
    "2061 denv\n",
    "2063 star\n",
    "\n",
    "\n"
   ]
  }
 ],
 "metadata": {
  "kernelspec": {
   "display_name": "Python 2",
   "language": "python",
   "name": "python2"
  },
  "language_info": {
   "codemirror_mode": {
    "name": "ipython",
    "version": 2
   },
   "file_extension": ".py",
   "mimetype": "text/x-python",
   "name": "python",
   "nbconvert_exporter": "python",
   "pygments_lexer": "ipython2",
   "version": "2.7.13"
  }
 },
 "nbformat": 4,
 "nbformat_minor": 2
}
