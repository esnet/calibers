{
 "cells": [
  {
   "cell_type": "code",
   "execution_count": null,
   "metadata": {
    "collapsed": true
   },
   "outputs": [],
   "source": [
    "%load_ext autoreload"
   ]
  },
  {
   "cell_type": "code",
   "execution_count": null,
   "metadata": {
    "collapsed": true
   },
   "outputs": [],
   "source": [
    "from filemon.orchestrate import monitor_files, RestOrchestrator, RestPuller, IntCapturer\n",
    "import requests\n",
    "\n",
    "rest_reporting_host=\"192.168.120.119\"\n",
    "rest_reporting_port=\"5000\"\n",
    "\n",
    "rest_puller_host=\"192.168.120.119\"\n",
    "rest_puller_port=\"5000\"\n",
    "rest_puller_api=\"api/configs/\"\n",
    "rest_puller_update_period_s=1\n",
    "storage = \"/data/\"\n",
    "\n",
    "def get_config():\n",
    "    get_url = \"http://192.168.120.119:5000/api/config/\"\n",
    "    try:\n",
    "        results = requests.get(get_url)\n",
    "    except requests.exceptions.RequestException:\n",
    "        return None\n",
    "    if results.status_code==200:\n",
    "        return results.json()\n",
    "    else: \n",
    "        return None\n",
    "\n",
    "def get_restids():\n",
    "    global storage\n",
    "    ids = []\n",
    "    titles = []\n",
    "    files = []\n",
    "    cfg = get_config()\n",
    "    for site in cfg['sites'].values():\n",
    "        ids.append(site['dtn'])\n",
    "        titles.append(site['dtn'] + \" rtt: \" + str(site['rtt']) + \" ms\")\n",
    "        files.append(storage + site['dtn'])\n",
    "    return ids,titles,files\n",
    "\n",
    "rest_ids, titles, files = get_restids()   \n",
    " \n",
    "\n",
    "ro = RestOrchestrator()\n",
    "ro.init(rest_ids, titles, \n",
    "        y_factor=1.0/float(1024*1024),\n",
    "        y_label=\"MB/s\", y_lim=(0, 20),\n",
    "        rest_reporting=False,\n",
    "        hostname=rest_reporting_host, port=rest_reporting_port)\n",
    "\n",
    "rp = RestPuller(rest_puller_host, rest_puller_port, rest_puller_api,\n",
    "                ro.process_changes, update_period_s=rest_puller_update_period_s)\n",
    "rp.start()\n",
    "\n",
    "ic = IntCapturer()\n",
    "ic.program_capture_stop([ro, rp])\n"
   ]
  },
  {
   "cell_type": "code",
   "execution_count": null,
   "metadata": {
    "collapsed": true
   },
   "outputs": [],
   "source": [
    "%%bash\n",
    "curl -H \"Content-Type: application/json\" -d '{\"dest\":\"/data/12\"}' http://localhost:5000/start/12 -X PUT \n"
   ]
  }
 ],
 "metadata": {
  "kernelspec": {
   "display_name": "Python 2",
   "language": "python",
   "name": "python2"
  },
  "language_info": {
   "codemirror_mode": {
    "name": "ipython",
    "version": 2
   },
   "file_extension": ".py",
   "mimetype": "text/x-python",
   "name": "python",
   "nbconvert_exporter": "python",
   "pygments_lexer": "ipython2",
   "version": "2.7.13"
  }
 },
 "nbformat": 4,
 "nbformat_minor": 2
}
