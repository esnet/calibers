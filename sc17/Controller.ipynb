{
 "cells": [
  {
   "cell_type": "code",
   "execution_count": 16,
   "metadata": {
    "collapsed": true
   },
   "outputs": [],
   "source": [
    "%load_ext autoreload\n",
    "\n",
    "import matplotlib.pyplot as plt\n",
    "\n",
    "def plotit(x,y):\n",
    "    fig, ax = plt.subplots()\n",
    "    ax.plot(x,y, 'o')\n",
    "    plt.show()"
   ]
  },
  {
   "cell_type": "markdown",
   "metadata": {},
   "source": [
    "Controller configuration\n",
    "-----------------------\n",
    "\n",
    "Overall configuration is held in a class, Config. A Config object holds the list of linux containers, Corsa switches, simulated sites. The following is used to generate and save the configuration. It explains what the various data types are and being used. Refer to coord.py for more details on each of the objects."
   ]
  },
  {
   "cell_type": "code",
   "execution_count": 270,
   "metadata": {
    "collapsed": true
   },
   "outputs": [],
   "source": []
  },
  {
   "cell_type": "markdown",
   "metadata": {},
   "source": [
    "Switches,dtn, etc are python objects. There is no access functions to their values. They can directly be accessed:"
   ]
  },
  {
   "cell_type": "code",
   "execution_count": 107,
   "metadata": {},
   "outputs": [
    {
     "name": "stdout",
     "output_type": "stream",
     "text": [
      "192.168.120.41 br2 11 38.8\n"
     ]
    }
   ],
   "source": [
    "print wash_sw.ip, wash_sw.vfc, wash_sw.ofport, wash_sw.rtt"
   ]
  },
  {
   "cell_type": "code",
   "execution_count": 108,
   "metadata": {},
   "outputs": [
    {
     "name": "stdout",
     "output_type": "stream",
     "text": [
      "[wash-tb-of-1, cern-272-tb-of-1, amst-tb-of-1, aofa-tb-of-1, denv-tb-of-1, atla-tb-of-1]\n",
      "[wash-192, cern-194, amst-190, aofa-191, denv-201, atla-200]\n",
      "[wash, amst, cern, denv, aofa, atla]\n"
     ]
    }
   ],
   "source": [
    "print config.switches\n",
    "print config.dtns\n",
    "print config.sites"
   ]
  },
  {
   "cell_type": "code",
   "execution_count": null,
   "metadata": {
    "collapsed": true
   },
   "outputs": [],
   "source": []
  },
  {
   "cell_type": "markdown",
   "metadata": {
    "collapsed": true
   },
   "source": [
    "Once the config is written into a file, it can be retrieved later:"
   ]
  },
  {
   "cell_type": "code",
   "execution_count": 59,
   "metadata": {
    "collapsed": true
   },
   "outputs": [],
   "source": [
    "from coord import get_config as gc\n",
    "new_config = gc(config_file=\"calibers-denv.config\")"
   ]
  },
  {
   "cell_type": "code",
   "execution_count": 115,
   "metadata": {},
   "outputs": [
    {
     "data": {
      "text/plain": [
       "[wash-192, cern-194, amst-190, aofa-191, denv-201, atla-200]"
      ]
     },
     "execution_count": 115,
     "metadata": {},
     "output_type": "execute_result"
    }
   ],
   "source": [
    "new_config.dtns"
   ]
  },
  {
   "cell_type": "markdown",
   "metadata": {},
   "source": [
    "Traffic Generator\n",
    "----------------\n",
    "\n",
    "Current testing the default generator in coord.py (one file per source at the time). File size distribution is random and delivery delay (i.e. past min deadline) is exponential."
   ]
  },
  {
   "cell_type": "code",
   "execution_count": 333,
   "metadata": {
    "collapsed": true
   },
   "outputs": [],
   "source": [
    "from coord import SingleFileGen\n",
    "\n",
    "capacity = 500000 # 500 Mbps\n",
    "epoch = 5 * 60 # 5 mins\n",
    "\n",
    "buckets=[30*1024,15*1024,10*1024,5*1024,1*1025,512,128]\n",
    "gen = SingleFileGen(dtns,capacity,epoch,buckets)\n",
    "reqs = gen.generate_requests(iterations = 10, scale = 0.1, dst_dtn = scinet_dtn, min_bias=10)"
   ]
  },
  {
   "cell_type": "markdown",
   "metadata": {},
   "source": [
    "The following shows the request for a given DTN"
   ]
  },
  {
   "cell_type": "code",
   "execution_count": 262,
   "metadata": {},
   "outputs": [
    {
     "name": "stdout",
     "output_type": "stream",
     "text": [
      ": wash-192 -> scinet-dtn completion: 0\n"
     ]
    }
   ],
   "source": [
    "print wash_dtn.requests[0]"
   ]
  },
  {
   "cell_type": "markdown",
   "metadata": {},
   "source": [
    "The first following graph shows the additional delay. The x are requests and y is the percentage of the theoritical minimum transfer time (i.e. going at full line rate without congestion + padding) that is added for the dealine. \n",
    "\n",
    "The second graph shows the file size distribution."
   ]
  },
  {
   "cell_type": "code",
   "execution_count": 334,
   "metadata": {},
   "outputs": [
    {
     "data": {
      "image/png": "[encoded data removed]",
      "text/plain": [
       "<matplotlib.figure.Figure at 0x1258dd610>"
      ]
     },
     "metadata": {},
     "output_type": "display_data"
    },
    {
     "data": {
      "image/png": "[encoded data removed]",
      "text/plain": [
       "<matplotlib.figure.Figure at 0x111e6e450>"
      ]
     },
     "metadata": {},
     "output_type": "display_data"
    }
   ],
   "source": [
    "x=[]\n",
    "y_delay=[]\n",
    "y_size=[]\n",
    "req_nb = 0\n",
    "for req_epoch in reqs:\n",
    "    x.append(req_nb)\n",
    "    ys_delay = []\n",
    "    ys_size = []\n",
    "    for req in req_epoch:\n",
    "        ys_delay.append(req.delay_ratio)\n",
    "        ys_size.append(req.size)\n",
    "    y_delay.append(ys_delay)\n",
    "    y_size.append(ys_size)\n",
    "    req_nb += 1\n",
    "plotit(x,y_delay)\n",
    "plotit(x,y_size)"
   ]
  },
  {
   "cell_type": "code",
   "execution_count": 6,
   "metadata": {
    "collapsed": true
   },
   "outputs": [],
   "source": []
  },
  {
   "cell_type": "markdown",
   "metadata": {},
   "source": [
    "Creating file of requests and storing them into a file."
   ]
  },
  {
   "cell_type": "code",
   "execution_count": 335,
   "metadata": {
    "collapsed": true
   },
   "outputs": [],
   "source": [
    "gen.save(\"scenario.data\",reqs)"
   ]
  },
  {
   "cell_type": "markdown",
   "metadata": {},
   "source": [
    "A saved scenario can be loaded as follow:"
   ]
  },
  {
   "cell_type": "code",
   "execution_count": 265,
   "metadata": {},
   "outputs": [
    {
     "data": {
      "text/plain": [
       "wash-192 -> scinet-dtn completion: 0"
      ]
     },
     "execution_count": 265,
     "metadata": {},
     "output_type": "execute_result"
    }
   ],
   "source": [
    "reqs = SingleFileGen.load(\"scenario.data\", dtns)\n",
    "\n",
    "dtns[0].requests[0]"
   ]
  },
  {
   "cell_type": "code",
   "execution_count": 18,
   "metadata": {},
   "outputs": [
    {
     "ename": "TypeError",
     "evalue": "__init__() got an unexpected keyword argument 'epoch'",
     "output_type": "error",
     "traceback": [
      "\u001b[0;31m---------------------------------------------------------------------------\u001b[0m",
      "\u001b[0;31mTypeError\u001b[0m                                 Traceback (most recent call last)",
      "\u001b[0;32m<ipython-input-18-87c3b581f6c7>\u001b[0m in \u001b[0;36m<module>\u001b[0;34m()\u001b[0m\n\u001b[1;32m      2\u001b[0m \u001b[0;32mfrom\u001b[0m \u001b[0mcoord\u001b[0m \u001b[0;32mimport\u001b[0m \u001b[0mCoordinator\u001b[0m\u001b[0;34m\u001b[0m\u001b[0m\n\u001b[1;32m      3\u001b[0m \u001b[0;34m\u001b[0m\u001b[0m\n\u001b[0;32m----> 4\u001b[0;31m \u001b[0mcoord\u001b[0m \u001b[0;34m=\u001b[0m \u001b[0mCoordinator\u001b[0m\u001b[0;34m(\u001b[0m\u001b[0mapp_ip\u001b[0m\u001b[0;34m=\u001b[0m\u001b[0;34m\"192.168.120.119\"\u001b[0m\u001b[0;34m,\u001b[0m\u001b[0mname\u001b[0m\u001b[0;34m=\u001b[0m\u001b[0;34m\"caliber-slice\"\u001b[0m\u001b[0;34m,\u001b[0m\u001b[0mepoch_time\u001b[0m\u001b[0;34m=\u001b[0m\u001b[0;36m10\u001b[0m\u001b[0;34m,\u001b[0m\u001b[0mconfig_file\u001b[0m\u001b[0;34m=\u001b[0m\u001b[0;34m\"calibers-denv.config\"\u001b[0m\u001b[0;34m,\u001b[0m \u001b[0mscenario_file\u001b[0m\u001b[0;34m=\u001b[0m\u001b[0;34m\"scenario.data\"\u001b[0m\u001b[0;34m,\u001b[0m\u001b[0mmax_rate_mbps\u001b[0m\u001b[0;34m=\u001b[0m\u001b[0;36m500\u001b[0m\u001b[0;34m)\u001b[0m\u001b[0;34m\u001b[0m\u001b[0m\n\u001b[0m\u001b[1;32m      5\u001b[0m \u001b[0mcoord\u001b[0m\u001b[0;34m.\u001b[0m\u001b[0mscheduler\u001b[0m\u001b[0;34m.\u001b[0m\u001b[0mdebug\u001b[0m \u001b[0;34m=\u001b[0m \u001b[0mFalse\u001b[0m\u001b[0;34m\u001b[0m\u001b[0m\n\u001b[1;32m      6\u001b[0m \u001b[0mcoord\u001b[0m\u001b[0;34m.\u001b[0m\u001b[0mdebug\u001b[0m \u001b[0;34m=\u001b[0m \u001b[0mFalse\u001b[0m\u001b[0;34m\u001b[0m\u001b[0m\n",
      "\u001b[0;32m/Users/lomax/Documents/workspace/calibers/sc17/coord.py\u001b[0m in \u001b[0;36m__init__\u001b[0;34m(self, name, config_file, epoch_time, max_rate_mbps, scenario_file, algo, app_ip)\u001b[0m\n\u001b[1;32m    178\u001b[0m                 \u001b[0mself\u001b[0m\u001b[0;34m.\u001b[0m\u001b[0mmax_rate\u001b[0m \u001b[0;34m=\u001b[0m \u001b[0mmax_rate_mbps\u001b[0m \u001b[0;34m*\u001b[0m \u001b[0;36m1000\u001b[0m \u001b[0;34m*\u001b[0m \u001b[0;36m1000\u001b[0m\u001b[0;34m\u001b[0m\u001b[0m\n\u001b[1;32m    179\u001b[0m                 \u001b[0mself\u001b[0m\u001b[0;34m.\u001b[0m\u001b[0mapp_ip\u001b[0m \u001b[0;34m=\u001b[0m \u001b[0mapp_ip\u001b[0m\u001b[0;34m\u001b[0m\u001b[0m\n\u001b[0;32m--> 180\u001b[0;31m                 \u001b[0mself\u001b[0m\u001b[0;34m.\u001b[0m\u001b[0mscheduler\u001b[0m \u001b[0;34m=\u001b[0m \u001b[0mscheduler\u001b[0m\u001b[0;34m.\u001b[0m\u001b[0mScheduler\u001b[0m\u001b[0;34m(\u001b[0m\u001b[0mepoch\u001b[0m\u001b[0;34m=\u001b[0m\u001b[0mself\u001b[0m\u001b[0;34m.\u001b[0m\u001b[0mepoch_time\u001b[0m\u001b[0;34m,\u001b[0m\u001b[0malgo\u001b[0m\u001b[0;34m=\u001b[0m\u001b[0mself\u001b[0m\u001b[0;34m.\u001b[0m\u001b[0malgo\u001b[0m\u001b[0;34m,\u001b[0m\u001b[0mmax_rate\u001b[0m\u001b[0;34m=\u001b[0m\u001b[0mself\u001b[0m\u001b[0;34m.\u001b[0m\u001b[0mmax_rate\u001b[0m\u001b[0;34m,\u001b[0m\u001b[0mdebug\u001b[0m\u001b[0;34m=\u001b[0m\u001b[0mFalse\u001b[0m\u001b[0;34m)\u001b[0m\u001b[0;34m\u001b[0m\u001b[0m\n\u001b[0m\u001b[1;32m    181\u001b[0m                 \u001b[0mself\u001b[0m\u001b[0;34m.\u001b[0m\u001b[0mapp\u001b[0m \u001b[0;34m=\u001b[0m \u001b[0mCoordApp\u001b[0m\u001b[0;34m(\u001b[0m\u001b[0mname\u001b[0m\u001b[0;34m=\u001b[0m\u001b[0;34m\"calibers-api\"\u001b[0m\u001b[0;34m,\u001b[0m \u001b[0mip\u001b[0m\u001b[0;34m=\u001b[0m\u001b[0mself\u001b[0m\u001b[0;34m.\u001b[0m\u001b[0mapp_ip\u001b[0m\u001b[0;34m,\u001b[0m \u001b[0mcoord\u001b[0m\u001b[0;34m=\u001b[0m\u001b[0mself\u001b[0m\u001b[0;34m)\u001b[0m\u001b[0;34m\u001b[0m\u001b[0m\n\u001b[1;32m    182\u001b[0m \u001b[0;34m\u001b[0m\u001b[0m\n",
      "\u001b[0;31mTypeError\u001b[0m: __init__() got an unexpected keyword argument 'epoch'"
     ]
    }
   ],
   "source": [
    "%autoreload 2\n",
    "from coord import Coordinator\n",
    "\n",
    "coord = Coordinator(app_ip=\"192.168.120.119\",name=\"caliber-slice\",epoch_time=10,config_file=\"calibers-denv.config\", scenario_file=\"scenario.data\",max_rate_mbps=500)\n",
    "coord.scheduler.debug = False\n",
    "coord.debug = False\n",
    "coord.start()\n"
   ]
  },
  {
   "cell_type": "raw",
   "metadata": {
    "collapsed": true
   },
   "source": []
  },
  {
   "cell_type": "code",
   "execution_count": 14,
   "metadata": {},
   "outputs": [
    {
     "name": "stderr",
     "output_type": "stream",
     "text": [
      "127.0.0.1 - - [08/Nov/2017 11:11:17] \"POST /api/stop HTTP/1.1\" 200 -\n"
     ]
    },
    {
     "name": "stdout",
     "output_type": "stream",
     "text": [
      "\"Shutdown in progress...\"\n"
     ]
    },
    {
     "name": "stderr",
     "output_type": "stream",
     "text": [
      "  % Total    % Received % Xferd  Average Speed   Time    Time     Time  Current\n",
      "                                 Dload  Upload   Total   Spent    Left  Speed\n",
      "\r",
      "  0     0    0     0    0     0      0      0 --:--:-- --:--:-- --:--:--     0\r",
      "100    26  100    26    0     0   3478      0 --:--:-- --:--:-- --:--:--  6500\n"
     ]
    }
   ],
   "source": [
    "%%bash\n",
    "curl -H \"Content-Type: application/json\" http://localhost:5000/api/stop -X POST"
   ]
  },
  {
   "cell_type": "code",
   "execution_count": 20,
   "metadata": {},
   "outputs": [
    {
     "name": "stdout",
     "output_type": "stream",
     "text": [
      "{\"cern-194\": {\"expected_size\": 5120, \"file_route\": \"/tmp/files_storage/cern-194\", \"deadline\": 1510188274.0855346}, \"aofa-191\": {\"expected_size\": 5120, \"file_route\": \"/tmp/files_storage/aofa-191\", \"deadline\": 1510188292.9837081}, \"amst-190\": {\"expected_size\": 30720, \"file_route\": \"/tmp/files_storage/amst-190\", \"deadline\": 1510193727.1111817}, \"denv-201\": {\"expected_size\": 15360, \"file_route\": \"/tmp/files_storage/denv-201\", \"deadline\": 1510190434.617468}, \"atla-200\": {\"expected_size\": 512, \"file_route\": \"/tmp/files_storage/atla-200\", \"deadline\": 1510187297.5485396}, \"wash-192\": {\"expected_size\": 10240, \"file_route\": \"/tmp/files_storage/wash-192\", \"deadline\": 1510189353.4923275}}\n"
     ]
    },
    {
     "name": "stderr",
     "output_type": "stream",
     "text": [
      "  % Total    % Received % Xferd  Average Speed   Time    Time     Time  Current\n",
      "                                 Dload  Upload   Total   Spent    Left  Speed\n",
      "\r",
      "  0     0    0     0    0     0      0      0 --:--:-- --:--:-- --:--:--     0\r",
      "100   686  100   686    0     0   4338      0 --:--:-- --:--:-- --:--:--  4369\n"
     ]
    }
   ],
   "source": [
    "%%bash\n",
    "curl -H \"Content-Type: application/json\" http://192.168.120.119:5000/api/configs/ -X GET\n"
   ]
  },
  {
   "cell_type": "code",
   "execution_count": 288,
   "metadata": {},
   "outputs": [
    {
     "name": "stdout",
     "output_type": "stream",
     "text": [
      "call scheduler Mon Oct 30 10:05:14 2017\n",
      "[wash-192 -> scinet-dtn completion: 0]\n",
      "call scheduler Mon Oct 30 10:05:15 2017\n",
      "[]\n",
      "call scheduler Mon Oct 30 10:05:16 2017\n",
      "[]\n"
     ]
    }
   ],
   "source": [
    "coord.config.dtns[0].current_request.completed = True"
   ]
  },
  {
   "cell_type": "code",
   "execution_count": 74,
   "metadata": {
    "collapsed": true
   },
   "outputs": [],
   "source": [
    "import requests\n",
    "import pickle\n",
    "\n",
    "def get_config():\n",
    "    get_url = \"http://192.168.120.119:5000/api/config/\"\n",
    "    try:\n",
    "        results = requests.get(get_url)\n",
    "    except requests.exceptions.RequestException:\n",
    "        return None\n",
    "    if results.status_code==200:\n",
    "        return pickle.loads(results.json())\n",
    "    else: \n",
    "        return None\n",
    "\n",
    "c = get_config()"
   ]
  },
  {
   "cell_type": "code",
   "execution_count": 75,
   "metadata": {},
   "outputs": [
    {
     "data": {
      "text/plain": [
       "[wash-192, cern-194, amst-190, aofa-191, denv-201, atla-200]"
      ]
     },
     "execution_count": 75,
     "metadata": {},
     "output_type": "execute_result"
    }
   ],
   "source": [
    "c.dtns"
   ]
  },
  {
   "cell_type": "code",
   "execution_count": 32,
   "metadata": {},
   "outputs": [
    {
     "name": "stdout",
     "output_type": "stream",
     "text": [
      "{\"message\": \"Internal Server Error\"}\n"
     ]
    },
    {
     "name": "stderr",
     "output_type": "stream",
     "text": [
      "  % Total    % Received % Xferd  Average Speed   Time    Time     Time  Current\n",
      "                                 Dload  Upload   Total   Spent    Left  Speed\n",
      "\r",
      "  0     0    0     0    0     0      0      0 --:--:-- --:--:-- --:--:--     0\r",
      "100    37  100    37    0     0    238      0 --:--:-- --:--:-- --:--:--   241\n"
     ]
    }
   ],
   "source": [
    "%%bash\n",
    "curl -H \"Content-Type: application/json\" http://192.168.120.119:5000/api/config/ -X GET"
   ]
  },
  {
   "cell_type": "code",
   "execution_count": 61,
   "metadata": {
    "collapsed": true
   },
   "outputs": [],
   "source": [
    "nc = pickle.dumps(new_config)"
   ]
  },
  {
   "cell_type": "code",
   "execution_count": 70,
   "metadata": {
    "collapsed": true
   },
   "outputs": [],
   "source": [
    "import pickle\n",
    "cc = pickle.loads(c.json())"
   ]
  },
  {
   "cell_type": "code",
   "execution_count": 72,
   "metadata": {},
   "outputs": [
    {
     "data": {
      "text/plain": [
       "[wash-192, cern-194, amst-190, aofa-191, denv-201, atla-200]"
      ]
     },
     "execution_count": 72,
     "metadata": {},
     "output_type": "execute_result"
    }
   ],
   "source": [
    "cc.dtns"
   ]
  },
  {
   "cell_type": "code",
   "execution_count": 12,
   "metadata": {},
   "outputs": [
    {
     "name": "stderr",
     "output_type": "stream",
     "text": [
      " * Running on http://localhost:5000/ (Press CTRL+C to quit)\n",
      "[2017-11-09 17:55:34,287] ERROR in app: Exception on /start/12 [PUT]\n",
      "Traceback (most recent call last):\n",
      "  File \"/anaconda/lib/python2.7/site-packages/flask/app.py\", line 1612, in full_dispatch_request\n",
      "    rv = self.dispatch_request()\n",
      "  File \"/anaconda/lib/python2.7/site-packages/flask/app.py\", line 1598, in dispatch_request\n",
      "    return self.view_functions[rule.endpoint](**req.view_args)\n",
      "  File \"/anaconda/lib/python2.7/site-packages/flask_restful/__init__.py\", line 480, in wrapper\n",
      "    resp = resource(*args, **kwargs)\n",
      "  File \"/anaconda/lib/python2.7/site-packages/flask/views.py\", line 84, in view\n",
      "    return self.dispatch_request(*args, **kwargs)\n",
      "  File \"/anaconda/lib/python2.7/site-packages/flask_restful/__init__.py\", line 595, in dispatch_request\n",
      "    resp = meth(*args, **kwargs)\n",
      "  File \"<ipython-input-12-137526d33890>\", line 41, in put\n",
      "    subprocess.Popen(('globus-url-copy -p 1 file:///storage/'+size+'.img ftp://'+dest).split())\n",
      "  File \"/anaconda/lib/python2.7/subprocess.py\", line 390, in __init__\n",
      "    errread, errwrite)\n",
      "  File \"/anaconda/lib/python2.7/subprocess.py\", line 1024, in _execute_child\n",
      "    raise child_exception\n",
      "OSError: [Errno 2] No such file or directory\n",
      "127.0.0.1 - - [09/Nov/2017 17:55:34] \"PUT /start/12 HTTP/1.1\" 500 -\n"
     ]
    },
    {
     "name": "stdout",
     "output_type": "stream",
     "text": [
      "GOT FILE\n"
     ]
    }
   ],
   "source": [
    "\n",
    "import time\n",
    "import datetime\n",
    "import subprocess\n",
    "import re\n",
    "import json\n",
    "from flask import Flask, request\n",
    "from flask_restful import Resource, Api\n",
    "app = Flask(__name__)\n",
    "api = Api(app)\n",
    "\n",
    "\n",
    "import socket\n",
    "import fcntl\n",
    "import struct\n",
    "\n",
    "def get_ip_address(ifname):\n",
    "    s = socket.socket(socket.AF_INET, socket.SOCK_DGRAM)\n",
    "    return socket.inet_ntoa(fcntl.ioctl(\n",
    "        s.fileno(),\n",
    "        0x8915,  # SIOCGIFADDR\n",
    "        struct.pack('256s', ifname[:15])\n",
    "    )[20:24])\n",
    "\n",
    "@app.route('/setrate/<rate>')\n",
    "def setRate(rate):\n",
    "    try:\n",
    "        subprocess.check_call(('tc qdisc change dev eth1 root fq maxrate '+rate).split())\n",
    "    except subprocess.CalledProcessError as e:\n",
    "        print e\n",
    "    outRate = subprocess.check_output('tc -i qdisc show dev eth1'.split())\n",
    "    outRate = re.findall('maxrate \\d+',outRate)[0]\n",
    "    outRate = re.findall('\\d+',outRate)[0]\n",
    "    return outRate\n",
    "    \n",
    "class FileTransfer(Resource):\n",
    "    def put(self, size):\n",
    "        print \"GOT FILE\"\n",
    "        FileTransfer.r = request.form\n",
    "        dest = request.json['dest']\n",
    "        subprocess.Popen(('globus-url-copy -p 1 file:///storage/'+size+'.img ftp://'+dest).split())\n",
    "        time.sleep(.4) # Wait for the connection to establish\n",
    "        output = subprocess.check_output('ss -int'.split())\n",
    "        return output\n",
    "\n",
    "api.add_resource(FileTransfer, '/start/<string:size>')\n",
    "app.run(host='localhost')"
   ]
  },
  {
   "cell_type": "code",
   "execution_count": 13,
   "metadata": {},
   "outputs": [
    {
     "data": {
      "text/plain": [
       "['__class__',\n",
       " '__cmp__',\n",
       " '__contains__',\n",
       " '__copy__',\n",
       " '__deepcopy__',\n",
       " '__delattr__',\n",
       " '__delitem__',\n",
       " '__dict__',\n",
       " '__doc__',\n",
       " '__eq__',\n",
       " '__format__',\n",
       " '__ge__',\n",
       " '__getattribute__',\n",
       " '__getitem__',\n",
       " '__getstate__',\n",
       " '__gt__',\n",
       " '__hash__',\n",
       " '__init__',\n",
       " '__iter__',\n",
       " '__le__',\n",
       " '__len__',\n",
       " '__lt__',\n",
       " '__module__',\n",
       " '__ne__',\n",
       " '__new__',\n",
       " '__reduce__',\n",
       " '__reduce_ex__',\n",
       " '__repr__',\n",
       " '__setattr__',\n",
       " '__setitem__',\n",
       " '__setstate__',\n",
       " '__sizeof__',\n",
       " '__str__',\n",
       " '__subclasshook__',\n",
       " '__weakref__',\n",
       " '_hash_cache',\n",
       " '_iter_hashitems',\n",
       " 'add',\n",
       " 'clear',\n",
       " 'copy',\n",
       " 'deepcopy',\n",
       " 'fromkeys',\n",
       " 'get',\n",
       " 'getlist',\n",
       " 'has_key',\n",
       " 'items',\n",
       " 'iteritems',\n",
       " 'iterkeys',\n",
       " 'iterlists',\n",
       " 'iterlistvalues',\n",
       " 'itervalues',\n",
       " 'keys',\n",
       " 'lists',\n",
       " 'listvalues',\n",
       " 'pop',\n",
       " 'popitem',\n",
       " 'popitemlist',\n",
       " 'poplist',\n",
       " 'setdefault',\n",
       " 'setlist',\n",
       " 'setlistdefault',\n",
       " 'to_dict',\n",
       " 'update',\n",
       " 'values',\n",
       " 'viewitems',\n",
       " 'viewkeys',\n",
       " 'viewvalues']"
      ]
     },
     "execution_count": 13,
     "metadata": {},
     "output_type": "execute_result"
    }
   ],
   "source": [
    "dir(FileTransfer.r)"
   ]
  },
  {
   "cell_type": "code",
   "execution_count": 14,
   "metadata": {
    "collapsed": true
   },
   "outputs": [],
   "source": [
    "z = FileTransfer.r.to_dict()"
   ]
  },
  {
   "cell_type": "code",
   "execution_count": 9,
   "metadata": {},
   "outputs": [
    {
     "data": {
      "text/plain": [
       "{}"
      ]
     },
     "execution_count": 9,
     "metadata": {},
     "output_type": "execute_result"
    }
   ],
   "source": [
    "z"
   ]
  },
  {
   "cell_type": "code",
   "execution_count": null,
   "metadata": {
    "collapsed": true
   },
   "outputs": [],
   "source": []
  }
 ],
 "metadata": {
  "kernelspec": {
   "display_name": "Python 2",
   "language": "python",
   "name": "python2"
  },
  "language_info": {
   "codemirror_mode": {
    "name": "ipython",
    "version": 2
   },
   "file_extension": ".py",
   "mimetype": "text/x-python",
   "name": "python",
   "nbconvert_exporter": "python",
   "pygments_lexer": "ipython2",
   "version": "2.7.12"
  }
 },
 "nbformat": 4,
 "nbformat_minor": 2
}
