{
 "cells": [
  {
   "cell_type": "code",
   "execution_count": 1,
   "metadata": {},
   "outputs": [],
   "source": [
    "%load_ext autoreload\n",
    "\n",
    "import matplotlib.pyplot as plt\n",
    "\n",
    "def plotit(x,y):\n",
    "    fig, ax = plt.subplots()\n",
    "    ax.plot(x,y, 'o')\n",
    "    plt.show()"
   ]
  },
  {
   "cell_type": "markdown",
   "metadata": {},
   "source": [
    "Controller configuration\n",
    "-----------------------\n",
    "\n",
    "Overall configuration is held in a class, Config. A Config object holds the list of linux containers, Corsa switches, simulated sites. The following is used to generate and save the configuration. It explains what the various data types are and being used. Refer to coord.py for more details on each of the objects."
   ]
  },
  {
   "cell_type": "code",
   "execution_count": 207,
   "metadata": {},
   "outputs": [],
   "source": [
    "%autoreload 2\n",
    "\n",
    "from coord import Switch, DTN, Site, Config, get_config\n",
    "\n",
    "# Corsa Switches - rtt to SCinet Denver.\n",
    "wash_sw = Switch(\"wash-tb-of-1\",\"192.168.120.41\",None,vfc=\"br2\",ofport=11,rtt=38.8)\n",
    "cern_sw = Switch(\"cern-272-tb-of-1\",\"192.168.120.36\",None,\"br2\",10,rtt=89.5)\n",
    "amst_sw = Switch(\"amst-tb-of-1\",\"192.168.120.35\",None,\"br1\",23,rtt=82.5)\n",
    "aofa_sw = Switch(\"aofa-tb-of-1\",\"192.168.120.33\",None,\"br2\",2,rtt=5.3)\n",
    "denv_sw = Switch(\"denv-tb-of-1\",\"192.168.120.37\",None,\"br1\",10,rtt=2)\n",
    "atla_sw = Switch(\"atla-tb-of-1\",\"192.168.120.34\",None,\"br1\",9,rtt=39.5)\n",
    "switches=[wash_sw,cern_sw,amst_sw,aofa_sw,denv_sw,atla_sw]\n",
    "\n",
    "# Data Transfer Node\n",
    "wash_dtn = DTN(\"wash-192\",\"192.168.120.192\",port=\"eth1\")\n",
    "cern_dtn = DTN(\"cern-194\",\"192.168.120.194\",port=\"eth1\")\n",
    "amst_dtn = DTN(\"amst-190\",\"192.168.120.190\",port=\"eth1\")\n",
    "aofa_dtn = DTN(\"aofa-191\",\"192.168.120.191\",port=\"eth1\")\n",
    "denv_dtn = DTN(\"denv-201\",\"192.168.120.201\",port=\"eth1\")\n",
    "atla_dtn = DTN(\"atla-200\",\"192.168.120.200\",port=\"eth1\")\n",
    "dtns = [wash_dtn,cern_dtn,amst_dtn,aofa_dtn,denv_dtn,atla_dtn]\n",
    "\n",
    "# Simulated sites\n",
    "wash = Site(name=\"wash\", switch=wash_sw, dtn=wash_dtn)\n",
    "amst = Site(name=\"amst\", switch=amst_sw, dtn=amst_dtn)\n",
    "cern = Site(name=\"cern\", switch=cern_sw, dtn=cern_dtn)\n",
    "denv = Site(name=\"denv\", switch=denv_sw, dtn=denv_dtn)\n",
    "aofa = Site(name=\"aofa\", switch=aofa_sw, dtn=aofa_dtn)\n",
    "atla = Site(name=\"atla\", switch=atla_sw, dtn=atla_dtn)\n",
    "#scinet = Site(name=\"scinet\", switch=None, dtn=scinet_dtn)\n",
    "\n",
    "sites = [wash,amst,cern,denv,aofa,atla]\n",
    "\n",
    "config =Config(switches=switches,dtns=dtns,sites=sites)\n",
    "config.save(config_file=\"demo.config\")\n"
   ]
  },
  {
   "cell_type": "markdown",
   "metadata": {},
   "source": [
    "Switches,dtn, etc are python objects. There is no access functions to their values. They can directly be accessed:"
   ]
  },
  {
   "cell_type": "code",
   "execution_count": 107,
   "metadata": {},
   "outputs": [
    {
     "name": "stdout",
     "output_type": "stream",
     "text": [
      "192.168.120.41 br2 11 38.8\n"
     ]
    }
   ],
   "source": [
    "print wash_sw.ip, wash_sw.vfc, wash_sw.ofport, wash_sw.rtt"
   ]
  },
  {
   "cell_type": "code",
   "execution_count": 108,
   "metadata": {},
   "outputs": [
    {
     "name": "stdout",
     "output_type": "stream",
     "text": [
      "[wash-tb-of-1, cern-272-tb-of-1, amst-tb-of-1, aofa-tb-of-1, denv-tb-of-1, atla-tb-of-1]\n",
      "[wash-192, cern-194, amst-190, aofa-191, denv-201, atla-200]\n",
      "[wash, amst, cern, denv, aofa, atla]\n"
     ]
    }
   ],
   "source": [
    "print config.switches\n",
    "print config.dtns\n",
    "print config.sites"
   ]
  },
  {
   "cell_type": "code",
   "execution_count": null,
   "metadata": {
    "collapsed": true
   },
   "outputs": [],
   "source": []
  },
  {
   "cell_type": "markdown",
   "metadata": {
    "collapsed": true
   },
   "source": [
    "Once the config is written into a file, it can be retrieved later:"
   ]
  },
  {
   "cell_type": "code",
   "execution_count": 113,
   "metadata": {
    "collapsed": true
   },
   "outputs": [],
   "source": [
    "new_config = get_config(config_file=\"demo.config\")"
   ]
  },
  {
   "cell_type": "code",
   "execution_count": 115,
   "metadata": {},
   "outputs": [
    {
     "data": {
      "text/plain": [
       "[wash-192, cern-194, amst-190, aofa-191, denv-201, atla-200]"
      ]
     },
     "execution_count": 115,
     "metadata": {},
     "output_type": "execute_result"
    }
   ],
   "source": [
    "new_config.dtns"
   ]
  },
  {
   "cell_type": "markdown",
   "metadata": {},
   "source": [
    "Traffic Generator\n",
    "----------------\n",
    "\n",
    "Current testing the default generator in coord.py (one file per source at the time). File size distribution is random and delivery delay (i.e. past min deadline) is exponential."
   ]
  },
  {
   "cell_type": "code",
   "execution_count": 208,
   "metadata": {},
   "outputs": [],
   "source": [
    "from coord import SingleFileGen\n",
    "\n",
    "capacity = 500000 # 500 Mbps\n",
    "epoch = 5 * 60 # 5 mins\n",
    "\n",
    "buckets=[30*1024,15*1024,10*1024,5*1024,1*1025,512,128]\n",
    "gen = SingleFileGen(dtns,capacity,epoch,buckets)\n",
    "reqs = gen.generate_requests(iterations = 10, scale = 10)"
   ]
  },
  {
   "cell_type": "markdown",
   "metadata": {},
   "source": [
    "The following shows the request for a given DTN"
   ]
  },
  {
   "cell_type": "code",
   "execution_count": 19,
   "metadata": {},
   "outputs": [
    {
     "name": "stdout",
     "output_type": "stream",
     "text": [
      "src= wash-192 dst: scinet-dtn size: 10240 deadline: 198.050128284 min_duration: 196.608\n"
     ]
    }
   ],
   "source": [
    "print wash_dtn.requests[0]"
   ]
  },
  {
   "cell_type": "markdown",
   "metadata": {},
   "source": [
    "The first following graph shows the additional delay. The x are requests and y is the percentage of the theoritical minimum transfer time (i.e. going at full line rate without congestion + padding) that is added for the dealine. \n",
    "\n",
    "The second graph shows the file size distribution."
   ]
  },
  {
   "cell_type": "code",
   "execution_count": 156,
   "metadata": {},
   "outputs": [
    {
     "data": {
      "image/png": "[encoded data removed]",
      "text/plain": [
       "<matplotlib.figure.Figure at 0x10d826490>"
      ]
     },
     "metadata": {},
     "output_type": "display_data"
    },
    {
     "data": {
      "image/png": "[encoded data removed]",
      "text/plain": [
       "<matplotlib.figure.Figure at 0x10f38f6d0>"
      ]
     },
     "metadata": {},
     "output_type": "display_data"
    }
   ],
   "source": [
    "x=[]\n",
    "y_delay=[]\n",
    "y_size=[]\n",
    "req_nb = 0\n",
    "for req_epoch in reqs:\n",
    "    x.append(req_nb)\n",
    "    ys_delay = []\n",
    "    ys_size = []\n",
    "    for req in req_epoch:\n",
    "        ys_delay.append(req.delay_ratio)\n",
    "        ys_size.append(req.size)\n",
    "    y_delay.append(ys_delay)\n",
    "    y_size.append(ys_size)\n",
    "    req_nb += 1\n",
    "plotit(x,y_delay)\n",
    "plotit(x,y_size)"
   ]
  },
  {
   "cell_type": "code",
   "execution_count": 6,
   "metadata": {
    "collapsed": true
   },
   "outputs": [],
   "source": []
  },
  {
   "cell_type": "markdown",
   "metadata": {},
   "source": [
    "Creating file of requests and storing them into a file."
   ]
  },
  {
   "cell_type": "code",
   "execution_count": 209,
   "metadata": {},
   "outputs": [],
   "source": [
    "gen.save(\"scenario.data\",reqs)"
   ]
  },
  {
   "cell_type": "markdown",
   "metadata": {},
   "source": [
    "A saved scenario can be loaded as follow:"
   ]
  },
  {
   "cell_type": "code",
   "execution_count": 109,
   "metadata": {},
   "outputs": [
    {
     "data": {
      "text/plain": [
       "src= wash-192 dst: scinet-dtn size: 10240 deadline: 198.050128284 min_duration: 196.608"
      ]
     },
     "execution_count": 109,
     "metadata": {},
     "output_type": "execute_result"
    }
   ],
   "source": [
    "reqs = SingleFileGen.load(\"scenario.data\", dtns)\n",
    "\n",
    "dtns[0].requests[0]"
   ]
  },
  {
   "cell_type": "code",
   "execution_count": 230,
   "metadata": {},
   "outputs": [],
   "source": [
    "\n",
    "from coord import Coordinator\n",
    "\n",
    "coord = Coordinator(name=\"caliber-slice\",epoch_time=10,config_file=\"demo.config\",scenario_file=\"scenario.data\")"
   ]
  },
  {
   "cell_type": "raw",
   "metadata": {
    "collapsed": true
   },
   "source": [
    "coord.start_requests()"
   ]
  },
  {
   "cell_type": "code",
   "execution_count": 231,
   "metadata": {},
   "outputs": [
    {
     "name": "stdout",
     "output_type": "stream",
     "text": [
      "STARTING\n",
      "\n",
      "call scheduler Mon Oct 30 08:47:37 2017\n",
      "call scheduler Mon Oct 30 08:47:38 2017\n",
      "call scheduler Mon Oct 30 08:47:39 2017\n",
      "call scheduler Mon Oct 30 08:47:40 2017\n",
      "call scheduler Mon Oct 30 08:47:41 2017\n",
      "call scheduler Mon Oct 30 08:47:42 2017\n",
      "call scheduler Mon Oct 30 08:47:43 2017\n",
      "call scheduler Mon Oct 30 08:47:44 2017\n",
      "call scheduler Mon Oct 30 08:47:45 2017\n",
      "call scheduler Mon Oct 30 08:47:46 2017\n",
      "call scheduler Mon Oct 30 08:47:47 2017\n",
      "call scheduler Mon Oct 30 08:47:48 2017\n",
      "call scheduler Mon Oct 30 08:47:49 2017\n",
      "call scheduler Mon Oct 30 08:47:50 2017\n",
      "call scheduler Mon Oct 30 08:47:51 2017\n",
      "call scheduler Mon Oct 30 08:47:52 2017\n",
      "call scheduler Mon Oct 30 08:47:53 2017\n",
      "call scheduler Mon Oct 30 08:47:54 2017\n"
     ]
    }
   ],
   "source": [
    "coord.start()"
   ]
  },
  {
   "cell_type": "code",
   "execution_count": 232,
   "metadata": {},
   "outputs": [
    {
     "name": "stdout",
     "output_type": "stream",
     "text": [
      "Request simulation is stopped.\n"
     ]
    }
   ],
   "source": [
    "coord.isRunning = False\n"
   ]
  },
  {
   "cell_type": "code",
   "execution_count": null,
   "metadata": {},
   "outputs": [],
   "source": []
  },
  {
   "cell_type": "code",
   "execution_count": null,
   "metadata": {
    "collapsed": true
   },
   "outputs": [],
   "source": []
  },
  {
   "cell_type": "code",
   "execution_count": null,
   "metadata": {
    "collapsed": true
   },
   "outputs": [],
   "source": []
  }
 ],
 "metadata": {
  "kernelspec": {
   "display_name": "Python 2",
   "language": "python",
   "name": "python2"
  },
  "language_info": {
   "codemirror_mode": {
    "name": "ipython",
    "version": 2
   },
   "file_extension": ".py",
   "mimetype": "text/x-python",
   "name": "python",
   "nbconvert_exporter": "python",
   "pygments_lexer": "ipython2",
   "version": "2.7.13"
  }
 },
 "nbformat": 4,
 "nbformat_minor": 2
}
