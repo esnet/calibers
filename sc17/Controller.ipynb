{
 "cells": [
  {
   "cell_type": "code",
   "execution_count": 1,
   "metadata": {
    "collapsed": true
   },
   "outputs": [],
   "source": [
    "%load_ext autoreload"
   ]
  },
  {
   "cell_type": "markdown",
   "metadata": {},
   "source": [
    "Controller configuration\n",
    "-----------------------\n",
    "\n",
    "Overall configuration is held in a class, Config. A Config object holds the list of linux containers, Corsa switches, simulated sites. The following is used to generate and save the configuration. It explains what the various data types are and being used. Refer to coord.py for more details on each of the objects."
   ]
  },
  {
   "cell_type": "code",
   "execution_count": 25,
   "metadata": {},
   "outputs": [
    {
     "ename": "IndentationError",
     "evalue": "unindent does not match any outer indentation level (coord.py, line 107)",
     "output_type": "error",
     "traceback": [
      "\u001b[0;36m  File \u001b[0;32m\"coord.py\"\u001b[0;36m, line \u001b[0;32m107\u001b[0m\n\u001b[0;31m    def request_transfer (self, request):\u001b[0m\n\u001b[0m                                         ^\u001b[0m\n\u001b[0;31mIndentationError\u001b[0m\u001b[0;31m:\u001b[0m unindent does not match any outer indentation level\n"
     ]
    }
   ],
   "source": [
    "%autoreload 2\n",
    "\n",
    "from coord import Switch, Container, Site, Config, get_config\n",
    "\n",
    "# Corsa Switches - rtt to SCinet Denver.\n",
    "wash_sw = Switch(\"wash-tb-of-1\",\"192.168.120.41\",None,vfc=\"br2\",ofport=11,rtt=38.8)\n",
    "cern_sw = Switch(\"cern-272-tb-of-1\",\"192.168.120.36\",None,\"br2\",10,rtt=89.5)\n",
    "amst_sw = Switch(\"amst-tb-of-1\",\"192.168.120.35\",None,\"br1\",23,rtt=82.5)\n",
    "aofa_sw = Switch(\"aofa-tb-of-1\",\"192.168.120.33\",None,\"br2\",2,rtt=5.3)\n",
    "denv_sw = Switch(\"denv-tb-of-1\",\"192.168.120.37\",None,\"br1\",10,rtt=2)\n",
    "\n",
    "switches=[wash_sw,cern_sw,amst_sw]\n",
    "\n",
    "# Linux Containers\n",
    "wash_dtn = Container(\"wash-192\",\"192.168.120.192\",port=\"eth1\")\n",
    "cern_dtn = Container(\"cern-194\",\"192.168.120.194\",port=\"eth1\")\n",
    "amst_dtn = Container(\"amst-190\",\"192.168.120.190\",port=\"eth1\")\n",
    "aofa_dtn = Container(\"aofa-191\",\"192.168.120.191\",port=\"eth1\")\n",
    "denv_dtn = Container(\"denv-190\",\"192.168.120.195\",port=\"eth1\")\n",
    "containers = [wash_dtn,cern_dtn,amst_dtn,aofa_dtn]\n",
    "\n",
    "# Simulated sites\n",
    "wash = Site(name=\"wash\", switch=wash_sw, container=wash_dtn)\n",
    "amst = Site(name=\"amst\", switch=amst_sw, container=amst_dtn)\n",
    "cern = Site(name=\"cern\", switch=cern_sw, container=cern_dtn)\n",
    "denv = Site(name=\"denv\", switch=denv_sw, container=denv_dtn)\n",
    "aofa = Site(name=\"aofa\", switch=aofa_sw, container=aofa_dtn)\n",
    "#scinet = Site(name=\"scinet\", switch=None, container=scinet_dtn)\n",
    "\n",
    "sites = [wash,amst,cern,denv,aofa]\n",
    "\n",
    "config =Config(switches=switches,containers=containers,sites=sites)\n",
    "config.save(config_file=\"demo.config\")"
   ]
  },
  {
   "cell_type": "code",
   "execution_count": 56,
   "metadata": {},
   "outputs": [
    {
     "name": "stdout",
     "output_type": "stream",
     "text": [
      "[wash-tb-of-1, cern-272-tb-of-1, amst-tb-of-1]\n",
      "[wash-192, cern-194, amst-190, aofa-191]\n",
      "[wash, amst, cern, denv, aofa]\n"
     ]
    }
   ],
   "source": [
    "print config.switches\n",
    "print config.containers\n",
    "print config.sites"
   ]
  },
  {
   "cell_type": "code",
   "execution_count": null,
   "metadata": {
    "collapsed": true
   },
   "outputs": [],
   "source": [
    "Once the config is written into a file, it can be retrieved later:"
   ]
  },
  {
   "cell_type": "code",
   "execution_count": 57,
   "metadata": {
    "collapsed": true
   },
   "outputs": [],
   "source": [
    "new_config = get_config(config_file=\"demo.config\")"
   ]
  },
  {
   "cell_type": "code",
   "execution_count": 59,
   "metadata": {},
   "outputs": [
    {
     "data": {
      "text/plain": [
       "[wash-tb-of-1, cern-272-tb-of-1, amst-tb-of-1]"
      ]
     },
     "execution_count": 59,
     "metadata": {},
     "output_type": "execute_result"
    }
   ],
   "source": [
    "new_config.switches"
   ]
  },
  {
   "cell_type": "code",
   "execution_count": null,
   "metadata": {},
   "outputs": [],
   "source": []
  },
  {
   "cell_type": "code",
   "execution_count": null,
   "metadata": {},
   "outputs": [],
   "source": []
  },
  {
   "cell_type": "code",
   "execution_count": null,
   "metadata": {},
   "outputs": [],
   "source": []
  },
  {
   "cell_type": "code",
   "execution_count": null,
   "metadata": {
    "collapsed": true
   },
   "outputs": [],
   "source": []
  },
  {
   "cell_type": "code",
   "execution_count": null,
   "metadata": {
    "collapsed": true
   },
   "outputs": [],
   "source": []
  }
 ],
 "metadata": {
  "kernelspec": {
   "display_name": "Python 2",
   "language": "python",
   "name": "python2"
  },
  "language_info": {
   "codemirror_mode": {
    "name": "ipython",
    "version": 2
   },
   "file_extension": ".py",
   "mimetype": "text/x-python",
   "name": "python",
   "nbconvert_exporter": "python",
   "pygments_lexer": "ipython2",
   "version": "2.7.13"
  }
 },
 "nbformat": 4,
 "nbformat_minor": 2
}
