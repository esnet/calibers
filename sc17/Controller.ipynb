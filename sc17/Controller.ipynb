{
 "cells": [
  {
   "cell_type": "code",
   "execution_count": 1,
   "metadata": {
    "collapsed": true
   },
   "outputs": [],
   "source": [
    "%load_ext autoreload"
   ]
  },
  {
   "cell_type": "markdown",
   "metadata": {},
   "source": [
    "Controller configuration\n",
    "-----------------------\n",
    "\n",
    "Overall configuration is held in a class, Config. A Config object holds the list of linux containers, Corsa switches, simulated sites. The following is used to generate and save the configuration. It explains what the various data types are and being used. Refer to coord.py for more details on each of the objects."
   ]
  },
  {
   "cell_type": "code",
   "execution_count": 26,
   "metadata": {},
   "outputs": [],
   "source": [
    "%autoreload 2\n",
    "\n",
    "from coord import Switch, Container, Site, Config, get_config\n",
    "\n",
    "# Corsa Switches - rtt to SCinet Denver.\n",
    "wash_sw = Switch(\"wash-tb-of-1\",\"192.168.120.41\",None,vfc=\"br2\",ofport=11,rtt=38.8)\n",
    "cern_sw = Switch(\"cern-272-tb-of-1\",\"192.168.120.36\",None,\"br2\",10,rtt=89.5)\n",
    "amst_sw = Switch(\"amst-tb-of-1\",\"192.168.120.35\",None,\"br1\",23,rtt=82.5)\n",
    "aofa_sw = Switch(\"aofa-tb-of-1\",\"192.168.120.33\",None,\"br2\",2,rtt=5.3)\n",
    "denv_sw = Switch(\"denv-tb-of-1\",\"192.168.120.37\",None,\"br1\",10,rtt=2)\n",
    "atla_sw = Switch(\"atla-tb-of-1\",\"192.168.120.34\",None,\"br1\",9,rtt=39.5)\n",
    "switches=[wash_sw,cern_sw,amst_sw,aofa_sw,denv_sw]\n",
    "\n",
    "# Linux Containers\n",
    "wash_dtn = Container(\"wash-192\",\"192.168.120.192\",port=\"eth1\")\n",
    "cern_dtn = Container(\"cern-194\",\"192.168.120.194\",port=\"eth1\")\n",
    "amst_dtn = Container(\"amst-190\",\"192.168.120.190\",port=\"eth1\")\n",
    "aofa_dtn = Container(\"aofa-191\",\"192.168.120.191\",port=\"eth1\")\n",
    "denv_dtn = Container(\"denv-201\",\"192.168.120.201\",port=\"eth1\")\n",
    "atla_dtn = Container(\"atla-200\",\"192.168.120.200\",port=\"eth1\")\n",
    "containers = [wash_dtn,cern_dtn,amst_dtn,aofa_dtn,denv_dtn,atla_dtn]\n",
    "\n",
    "# Simulated sites\n",
    "wash = Site(name=\"wash\", switch=wash_sw, container=wash_dtn)\n",
    "amst = Site(name=\"amst\", switch=amst_sw, container=amst_dtn)\n",
    "cern = Site(name=\"cern\", switch=cern_sw, container=cern_dtn)\n",
    "denv = Site(name=\"denv\", switch=denv_sw, container=denv_dtn)\n",
    "aofa = Site(name=\"aofa\", switch=aofa_sw, container=aofa_dtn)\n",
    "atla = Site(name=\"atla\", switch=atla_sw, container=atla_dtn)\n",
    "#scinet = Site(name=\"scinet\", switch=None, container=scinet_dtn)\n",
    "\n",
    "sites = [wash,amst,cern,denv,aofa,atla]\n",
    "\n",
    "config =Config(switches=switches,containers=containers,sites=sites)\n",
    "config.save(config_file=\"demo.config\")"
   ]
  },
  {
   "cell_type": "markdown",
   "metadata": {},
   "source": [
    "Switches,containers, etc are python objects. There is no access functions to their values. They can directly be accessed:"
   ]
  },
  {
   "cell_type": "code",
   "execution_count": 32,
   "metadata": {},
   "outputs": [
    {
     "name": "stdout",
     "output_type": "stream",
     "text": [
      "192.168.120.41 br2 11 38.8\n"
     ]
    }
   ],
   "source": [
    "print wash_sw.ip, wash_sw.vfc, wash_sw.ofport, wash_sw.rtt"
   ]
  },
  {
   "cell_type": "code",
   "execution_count": 27,
   "metadata": {},
   "outputs": [
    {
     "name": "stdout",
     "output_type": "stream",
     "text": [
      "[wash-tb-of-1, cern-272-tb-of-1, amst-tb-of-1]\n",
      "[wash-192, cern-194, amst-190, aofa-191]\n",
      "[wash, amst, cern, denv, aofa]\n"
     ]
    }
   ],
   "source": [
    "print config.switches\n",
    "print config.containers\n",
    "print config.sites"
   ]
  },
  {
   "cell_type": "code",
   "execution_count": null,
   "metadata": {},
   "outputs": [],
   "source": []
  },
  {
   "cell_type": "markdown",
   "metadata": {
    "collapsed": true
   },
   "source": [
    "Once the config is written into a file, it can be retrieved later:"
   ]
  },
  {
   "cell_type": "code",
   "execution_count": 28,
   "metadata": {
    "collapsed": true
   },
   "outputs": [],
   "source": [
    "new_config = get_config(config_file=\"demo.config\")"
   ]
  },
  {
   "cell_type": "code",
   "execution_count": 29,
   "metadata": {},
   "outputs": [
    {
     "data": {
      "text/plain": [
       "[wash-tb-of-1, cern-272-tb-of-1, amst-tb-of-1]"
      ]
     },
     "execution_count": 29,
     "metadata": {},
     "output_type": "execute_result"
    }
   ],
   "source": [
    "new_config.switches"
   ]
  },
  {
   "cell_type": "code",
   "execution_count": 118,
   "metadata": {},
   "outputs": [],
   "source": [
    "from trafficgen import traffic_gen\n",
    "from coord import SingleFileGen\n",
    "\n",
    "def get_sources(config):\n",
    "    sources=[]\n",
    "    dtns = config.containers\n",
    "    for dtn in dtns:\n",
    "        sources.append(dtn.name)\n",
    "    return sources\n",
    "\n",
    "sources = get_sources(config)\n",
    "capacity = 500000 # 500 Mbps\n",
    "epoch = 5 * 60 # 5 mins\n",
    "#gen = traffic_gen(sources,capacity,epoch)\n",
    "buckets=[30*1024,15*1024,10*1024,5*1024,1*1025,512,128]\n",
    "gen = SingleFileGen(sources,capacity,epoch,buckets)"
   ]
  },
  {
   "cell_type": "code",
   "execution_count": 119,
   "metadata": {},
   "outputs": [
    {
     "name": "stdout",
     "output_type": "stream",
     "text": [
      "10240 0.196608\n",
      "5120 0.098304\n",
      "30720 0.589824\n",
      "5120 0.098304\n"
     ]
    }
   ],
   "source": [
    "reqs = gen.generate_requests()"
   ]
  },
  {
   "cell_type": "code",
   "execution_count": 117,
   "metadata": {},
   "outputs": [
    {
     "name": "stdout",
     "output_type": "stream",
     "text": [
      "[src= wash-192 dst: 0 size: 10240 deadline: 0.211029282841, src= cern-194 dst: 0 size: 5120 deadline: 0.132097514048, src= amst-190 dst: 0 size: 30720 deadline: 1.08667391744, src= aofa-191 dst: 0 size: 5120 deadline: 0.321079199776]\n"
     ]
    }
   ],
   "source": [
    "print reqs"
   ]
  },
  {
   "cell_type": "code",
   "execution_count": 99,
   "metadata": {
    "collapsed": true
   },
   "outputs": [],
   "source": [
    "x=[]\n",
    "y=[]\n",
    "for i in range (0,1000):\n",
    "    x.append(i)\n",
    "    y.append(np.random.exponential(scale=0.1))"
   ]
  },
  {
   "cell_type": "code",
   "execution_count": 100,
   "metadata": {},
   "outputs": [
    {
     "data": {
      "image/png": "[encoded data removed]",
      "text/plain": [
       "<matplotlib.figure.Figure at 0x1072b9e50>"
      ]
     },
     "metadata": {},
     "output_type": "display_data"
    }
   ],
   "source": [
    "import matplotlib.pyplot as plt\n",
    "\n",
    "fig, ax = plt.subplots()\n",
    "\n",
    "ax.plot(x,y, 'o')\n",
    "\n",
    "plt.show()"
   ]
  },
  {
   "cell_type": "code",
   "execution_count": 102,
   "metadata": {},
   "outputs": [
    {
     "name": "stdout",
     "output_type": "stream",
     "text": [
      "83\n"
     ]
    }
   ],
   "source": [
    "count = 0\n",
    "for z in y:\n",
    "    #print z\n",
    "    if z <= 0.01:\n",
    "        count +=1\n",
    "print count\n"
   ]
  },
  {
   "cell_type": "code",
   "execution_count": 127,
   "metadata": {},
   "outputs": [
    {
     "name": "stdout",
     "output_type": "stream",
     "text": [
      "10240 500000 196.608\n",
      "5120 500000 98.304\n",
      "30720 500000 589.824\n",
      "5120 500000 98.304\n"
     ]
    }
   ],
   "source": [
    "import numpy as np\n",
    "\n",
    "import scheduler\n",
    "\n",
    "class SingleFileGen:\n",
    "\n",
    "    def __init__(self,sources,C,epoch,buckets,padding=1.2):\n",
    "        self.capacity = C\n",
    "        self.epoch = epoch\n",
    "        self.nodes = sources\n",
    "        self.buckets=buckets\n",
    "        self.padding = padding\n",
    "        np.random.seed(3)\n",
    "\n",
    "\n",
    "    def generate_requests(self):\n",
    "\n",
    "    \trequests = []\n",
    "    \tfor src in self.nodes:\n",
    "            size = np.random.choice(self.buckets)\n",
    "            min_duration = (size * 8 * 1000 * self.padding) / self.capacity \n",
    "            print size,self.capacity, min_duration\n",
    "            duration = min_duration * (np.random.exponential(scale=1)) + min_duration\n",
    "            dst = 0\n",
    "            req = scheduler.Request(src,dst,size,0,duration)\n",
    "            requests.append(req)\n",
    "        return requests\n",
    "\n",
    "def get_sources(config):\n",
    "    sources=[]\n",
    "    dtns = config.containers\n",
    "    for dtn in dtns:\n",
    "        sources.append(dtn.name)\n",
    "    return sources\n",
    "\n",
    "sources = get_sources(config)\n",
    "capacity = 500000 # 500 Mbps\n",
    "epoch = 5 * 60 # 5 mins\n",
    "#gen = traffic_gen(sources,capacity,epoch)\n",
    "buckets=[30*1024,15*1024,10*1024,5*1024,1*1025,512,128]\n",
    "gen = SingleFileGen(sources,capacity,epoch,buckets)\n",
    "reqs = gen.generate_requests()"
   ]
  },
  {
   "cell_type": "code",
   "execution_count": 129,
   "metadata": {},
   "outputs": [
    {
     "data": {
      "text/plain": [
       "[src= wash-192 dst: 0 size: 10240 deadline: 211.029282841,\n",
       " src= cern-194 dst: 0 size: 5120 deadline: 132.097514048,\n",
       " src= amst-190 dst: 0 size: 30720 deadline: 1086.67391744,\n",
       " src= aofa-191 dst: 0 size: 5120 deadline: 321.079199776]"
      ]
     },
     "execution_count": 129,
     "metadata": {},
     "output_type": "execute_result"
    }
   ],
   "source": [
    "reqs"
   ]
  },
  {
   "cell_type": "code",
   "execution_count": null,
   "metadata": {
    "collapsed": true
   },
   "outputs": [],
   "source": []
  }
 ],
 "metadata": {
  "kernelspec": {
   "display_name": "Python 2",
   "language": "python",
   "name": "python2"
  },
  "language_info": {
   "codemirror_mode": {
    "name": "ipython",
    "version": 2
   },
   "file_extension": ".py",
   "mimetype": "text/x-python",
   "name": "python",
   "nbconvert_exporter": "python",
   "pygments_lexer": "ipython2",
   "version": "2.7.13"
  }
 },
 "nbformat": 4,
 "nbformat_minor": 2
}
