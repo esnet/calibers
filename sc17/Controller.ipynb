{
 "cells": [
  {
   "cell_type": "code",
   "execution_count": 186,
   "metadata": {},
   "outputs": [
    {
     "name": "stdout",
     "output_type": "stream",
     "text": [
      "The autoreload extension is already loaded. To reload it, use:\n",
      "  %reload_ext autoreload\n"
     ]
    }
   ],
   "source": [
    "%load_ext autoreload\n",
    "\n",
    "import matplotlib.pyplot as plt\n",
    "\n",
    "def plotit(x,y):\n",
    "    fig, ax = plt.subplots()\n",
    "    ax.plot(x,y, 'o')\n",
    "    plt.show()"
   ]
  },
  {
   "cell_type": "markdown",
   "metadata": {},
   "source": [
    "Controller configuration\n",
    "-----------------------\n",
    "\n",
    "Overall configuration is held in a class, Config. A Config object holds the list of linux containers, Corsa switches, simulated sites. The following is used to generate and save the configuration. It explains what the various data types are and being used. Refer to coord.py for more details on each of the objects."
   ]
  },
  {
   "cell_type": "code",
   "execution_count": 151,
   "metadata": {},
   "outputs": [],
   "source": [
    "%autoreload 2\n",
    "\n",
    "from coord import Switch, Container, Site, Config, get_config\n",
    "\n",
    "# Corsa Switches - rtt to SCinet Denver.\n",
    "wash_sw = Switch(\"wash-tb-of-1\",\"192.168.120.41\",None,vfc=\"br2\",ofport=11,rtt=38.8)\n",
    "cern_sw = Switch(\"cern-272-tb-of-1\",\"192.168.120.36\",None,\"br2\",10,rtt=89.5)\n",
    "amst_sw = Switch(\"amst-tb-of-1\",\"192.168.120.35\",None,\"br1\",23,rtt=82.5)\n",
    "aofa_sw = Switch(\"aofa-tb-of-1\",\"192.168.120.33\",None,\"br2\",2,rtt=5.3)\n",
    "denv_sw = Switch(\"denv-tb-of-1\",\"192.168.120.37\",None,\"br1\",10,rtt=2)\n",
    "atla_sw = Switch(\"atla-tb-of-1\",\"192.168.120.34\",None,\"br1\",9,rtt=39.5)\n",
    "switches=[wash_sw,cern_sw,amst_sw,aofa_sw,denv_sw,atla_sw]\n",
    "\n",
    "# Linux Containers\n",
    "wash_dtn = Container(\"wash-192\",\"192.168.120.192\",port=\"eth1\")\n",
    "cern_dtn = Container(\"cern-194\",\"192.168.120.194\",port=\"eth1\")\n",
    "amst_dtn = Container(\"amst-190\",\"192.168.120.190\",port=\"eth1\")\n",
    "aofa_dtn = Container(\"aofa-191\",\"192.168.120.191\",port=\"eth1\")\n",
    "denv_dtn = Container(\"denv-201\",\"192.168.120.201\",port=\"eth1\")\n",
    "atla_dtn = Container(\"atla-200\",\"192.168.120.200\",port=\"eth1\")\n",
    "containers = [wash_dtn,cern_dtn,amst_dtn,aofa_dtn,denv_dtn,atla_dtn]\n",
    "\n",
    "# Simulated sites\n",
    "wash = Site(name=\"wash\", switch=wash_sw, container=wash_dtn)\n",
    "amst = Site(name=\"amst\", switch=amst_sw, container=amst_dtn)\n",
    "cern = Site(name=\"cern\", switch=cern_sw, container=cern_dtn)\n",
    "denv = Site(name=\"denv\", switch=denv_sw, container=denv_dtn)\n",
    "aofa = Site(name=\"aofa\", switch=aofa_sw, container=aofa_dtn)\n",
    "atla = Site(name=\"atla\", switch=atla_sw, container=atla_dtn)\n",
    "#scinet = Site(name=\"scinet\", switch=None, container=scinet_dtn)\n",
    "\n",
    "sites = [wash,amst,cern,denv,aofa,atla]\n",
    "\n",
    "config =Config(switches=switches,containers=containers,sites=sites)\n",
    "config.save(config_file=\"demo.config\")"
   ]
  },
  {
   "cell_type": "markdown",
   "metadata": {},
   "source": [
    "Switches,containers, etc are python objects. There is no access functions to their values. They can directly be accessed:"
   ]
  },
  {
   "cell_type": "code",
   "execution_count": 152,
   "metadata": {},
   "outputs": [
    {
     "name": "stdout",
     "output_type": "stream",
     "text": [
      "192.168.120.41 br2 11 38.8\n"
     ]
    }
   ],
   "source": [
    "print wash_sw.ip, wash_sw.vfc, wash_sw.ofport, wash_sw.rtt"
   ]
  },
  {
   "cell_type": "code",
   "execution_count": 153,
   "metadata": {},
   "outputs": [
    {
     "name": "stdout",
     "output_type": "stream",
     "text": [
      "[wash-tb-of-1, cern-272-tb-of-1, amst-tb-of-1, aofa-tb-of-1, denv-tb-of-1, atla-tb-of-1]\n",
      "[wash-192, cern-194, amst-190, aofa-191, denv-201, atla-200]\n",
      "[wash, amst, cern, denv, aofa, atla]\n"
     ]
    }
   ],
   "source": [
    "print config.switches\n",
    "print config.containers\n",
    "print config.sites"
   ]
  },
  {
   "cell_type": "code",
   "execution_count": null,
   "metadata": {},
   "outputs": [],
   "source": []
  },
  {
   "cell_type": "markdown",
   "metadata": {
    "collapsed": true
   },
   "source": [
    "Once the config is written into a file, it can be retrieved later:"
   ]
  },
  {
   "cell_type": "code",
   "execution_count": 154,
   "metadata": {
    "collapsed": true
   },
   "outputs": [],
   "source": [
    "new_config = get_config(config_file=\"demo.config\")"
   ]
  },
  {
   "cell_type": "code",
   "execution_count": 155,
   "metadata": {},
   "outputs": [
    {
     "data": {
      "text/plain": [
       "[wash-tb-of-1,\n",
       " cern-272-tb-of-1,\n",
       " amst-tb-of-1,\n",
       " aofa-tb-of-1,\n",
       " denv-tb-of-1,\n",
       " atla-tb-of-1]"
      ]
     },
     "execution_count": 155,
     "metadata": {},
     "output_type": "execute_result"
    }
   ],
   "source": [
    "new_config.switches"
   ]
  },
  {
   "cell_type": "markdown",
   "metadata": {},
   "source": [
    "Traffic Generator\n",
    "----------------\n",
    "\n",
    "Current testing the default generator in coord.py (one file per source at the time). File size distribution is random and delivery delay (i.e. past min deadline) is exponential."
   ]
  },
  {
   "cell_type": "code",
   "execution_count": 187,
   "metadata": {},
   "outputs": [],
   "source": [
    "\n",
    "from coord import SingleFileGen\n",
    "\n",
    "def get_sources(config):\n",
    "    sources=[]\n",
    "    dtns = config.containers\n",
    "    for dtn in dtns:\n",
    "        sources.append(dtn.name)\n",
    "    return sources\n",
    "\n",
    "sources = get_sources(config)\n",
    "capacity = 500000 # 500 Mbps\n",
    "epoch = 5 * 60 # 5 mins\n",
    "#gen = traffic_gen(sources,capacity,epoch)\n",
    "buckets=[30*1024,15*1024,10*1024,5*1024,1*1025,512,128]\n",
    "gen = SingleFileGen(sources,capacity,epoch,buckets)"
   ]
  },
  {
   "cell_type": "markdown",
   "metadata": {},
   "source": [
    "The following shows for each source the additional delay percentage that is added to the shortest possible time transfer."
   ]
  },
  {
   "cell_type": "code",
   "execution_count": 188,
   "metadata": {},
   "outputs": [
    {
     "data": {
      "image/png": "[encoded data removed]",
      "text/plain": [
       "<matplotlib.figure.Figure at 0x1069ffd90>"
      ]
     },
     "metadata": {},
     "output_type": "display_data"
    }
   ],
   "source": [
    "x=[]\n",
    "y=[]\n",
    "for i in range(100):\n",
    "    reqs = gen.generate_requests()\n",
    "    x.append(i)\n",
    "    ys = []\n",
    "    for req in reqs:\n",
    "        v = ((req.td - req.min_duration) / req.min_duration) * 100\n",
    "        ys.append(req.td/req.min_duration)\n",
    "    y.append(ys)\n",
    "plotit(x,y)"
   ]
  },
  {
   "cell_type": "code",
   "execution_count": null,
   "metadata": {},
   "outputs": [],
   "source": []
  },
  {
   "cell_type": "code",
   "execution_count": null,
   "metadata": {},
   "outputs": [],
   "source": []
  },
  {
   "cell_type": "code",
   "execution_count": null,
   "metadata": {},
   "outputs": [],
   "source": []
  },
  {
   "cell_type": "code",
   "execution_count": null,
   "metadata": {},
   "outputs": [],
   "source": []
  },
  {
   "cell_type": "code",
   "execution_count": null,
   "metadata": {},
   "outputs": [],
   "source": []
  },
  {
   "cell_type": "code",
   "execution_count": null,
   "metadata": {},
   "outputs": [],
   "source": []
  },
  {
   "cell_type": "code",
   "execution_count": null,
   "metadata": {},
   "outputs": [],
   "source": []
  },
  {
   "cell_type": "code",
   "execution_count": null,
   "metadata": {},
   "outputs": [],
   "source": []
  },
  {
   "cell_type": "code",
   "execution_count": null,
   "metadata": {},
   "outputs": [],
   "source": []
  },
  {
   "cell_type": "code",
   "execution_count": null,
   "metadata": {
    "collapsed": true
   },
   "outputs": [],
   "source": []
  }
 ],
 "metadata": {
  "kernelspec": {
   "display_name": "Python 2",
   "language": "python",
   "name": "python2"
  },
  "language_info": {
   "codemirror_mode": {
    "name": "ipython",
    "version": 2
   },
   "file_extension": ".py",
   "mimetype": "text/x-python",
   "name": "python",
   "nbconvert_exporter": "python",
   "pygments_lexer": "ipython2",
   "version": "2.7.13"
  }
 },
 "nbformat": 4,
 "nbformat_minor": 2
}
